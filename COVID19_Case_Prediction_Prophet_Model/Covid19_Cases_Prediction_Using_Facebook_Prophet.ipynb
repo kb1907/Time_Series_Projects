{
 "cells": [
  {
   "cell_type": "markdown",
   "metadata": {
    "id": "vqgA_yPbGFnM"
   },
   "source": [
    "# Covid19 Cases Prediction Using Facebook Prophet "
   ]
  },
  {
   "cell_type": "code",
   "execution_count": null,
   "metadata": {},
   "outputs": [],
   "source": [
    "#!pip install plotly"
   ]
  },
  {
   "cell_type": "code",
   "execution_count": null,
   "metadata": {},
   "outputs": [],
   "source": [
    "#!pip install pystan==2.19.1.1 prophet"
   ]
  },
  {
   "cell_type": "code",
   "execution_count": 28,
   "metadata": {
    "id": "KVxYSMIUxx_U"
   },
   "outputs": [],
   "source": [
    "import pandas as pd\n",
    "import numpy as np\n",
    "from tensorflow import keras\n",
    "import matplotlib.pyplot as plt\n",
    "import plotly.express as px\n",
    "import plotly.figure_factory as ff\n",
    "from prophet import Prophet\n",
    "from sklearn.metrics import r2_score\n",
    "\n",
    "import plotly.offline as py\n",
    "from plotly.offline import iplot\n",
    "import plotly.io as pio\n",
    "pio.renderers.default = 'iframe'\n",
    "\n",
    "import warnings\n",
    "warnings.filterwarnings(\"ignore\")"
   ]
  },
  {
   "cell_type": "code",
   "execution_count": 11,
   "metadata": {
    "colab": {
     "base_uri": "https://localhost:8080/",
     "height": 206
    },
    "id": "8ZQI1ufk65RY",
    "outputId": "d6d5f106-fa6f-4cf1-bc8f-4a99a435ee22"
   },
   "outputs": [
    {
     "data": {
      "text/html": [
       "<div>\n",
       "<style scoped>\n",
       "    .dataframe tbody tr th:only-of-type {\n",
       "        vertical-align: middle;\n",
       "    }\n",
       "\n",
       "    .dataframe tbody tr th {\n",
       "        vertical-align: top;\n",
       "    }\n",
       "\n",
       "    .dataframe thead th {\n",
       "        text-align: right;\n",
       "    }\n",
       "</style>\n",
       "<table border=\"1\" class=\"dataframe\">\n",
       "  <thead>\n",
       "    <tr style=\"text-align: right;\">\n",
       "      <th></th>\n",
       "      <th>Entity</th>\n",
       "      <th>Date</th>\n",
       "      <th>Cases</th>\n",
       "      <th>Deaths</th>\n",
       "      <th>Daily tests</th>\n",
       "      <th>iso_alpha</th>\n",
       "      <th>month</th>\n",
       "    </tr>\n",
       "  </thead>\n",
       "  <tbody>\n",
       "    <tr>\n",
       "      <th>0</th>\n",
       "      <td>Mexico</td>\n",
       "      <td>2020-01-01</td>\n",
       "      <td>0.0</td>\n",
       "      <td>0.0</td>\n",
       "      <td>25.0</td>\n",
       "      <td>MEX</td>\n",
       "      <td>1</td>\n",
       "    </tr>\n",
       "    <tr>\n",
       "      <th>1</th>\n",
       "      <td>Mexico</td>\n",
       "      <td>2020-01-02</td>\n",
       "      <td>0.0</td>\n",
       "      <td>0.0</td>\n",
       "      <td>72.0</td>\n",
       "      <td>MEX</td>\n",
       "      <td>1</td>\n",
       "    </tr>\n",
       "    <tr>\n",
       "      <th>2</th>\n",
       "      <td>Mexico</td>\n",
       "      <td>2020-01-03</td>\n",
       "      <td>0.0</td>\n",
       "      <td>0.0</td>\n",
       "      <td>89.0</td>\n",
       "      <td>MEX</td>\n",
       "      <td>1</td>\n",
       "    </tr>\n",
       "    <tr>\n",
       "      <th>3</th>\n",
       "      <td>Thailand</td>\n",
       "      <td>2020-01-04</td>\n",
       "      <td>0.0</td>\n",
       "      <td>0.0</td>\n",
       "      <td>2.0</td>\n",
       "      <td>THA</td>\n",
       "      <td>1</td>\n",
       "    </tr>\n",
       "    <tr>\n",
       "      <th>4</th>\n",
       "      <td>Mexico</td>\n",
       "      <td>2020-01-04</td>\n",
       "      <td>0.0</td>\n",
       "      <td>0.0</td>\n",
       "      <td>45.0</td>\n",
       "      <td>MEX</td>\n",
       "      <td>1</td>\n",
       "    </tr>\n",
       "  </tbody>\n",
       "</table>\n",
       "</div>"
      ],
      "text/plain": [
       "     Entity        Date  Cases  Deaths  Daily tests iso_alpha  month\n",
       "0    Mexico  2020-01-01    0.0     0.0         25.0       MEX      1\n",
       "1    Mexico  2020-01-02    0.0     0.0         72.0       MEX      1\n",
       "2    Mexico  2020-01-03    0.0     0.0         89.0       MEX      1\n",
       "3  Thailand  2020-01-04    0.0     0.0          2.0       THA      1\n",
       "4    Mexico  2020-01-04    0.0     0.0         45.0       MEX      1"
      ]
     },
     "execution_count": 11,
     "metadata": {},
     "output_type": "execute_result"
    }
   ],
   "source": [
    "# Import the data\n",
    "# Entity: Country Name\n",
    "# Date: Date on which records were observed\n",
    "# Cases: Number of confirmed Covid-19 cases\n",
    "# Deaths: Number of confirmed Covid-19 related deaths\n",
    "# Daily tests: Number of tests taken in the country\n",
    "# Iso_alpha: ISO code for countries\n",
    "# Month: Month of observation\n",
    "\n",
    "covid_df = pd.read_csv(\"covid_data.csv\")\n",
    "covid_df.head()"
   ]
  },
  {
   "cell_type": "code",
   "execution_count": 12,
   "metadata": {
    "colab": {
     "base_uri": "https://localhost:8080/",
     "height": 363
    },
    "id": "5RsVXUcb65Rc",
    "outputId": "3aba645c-8545-4e56-f5f1-9e33cba18fdd"
   },
   "outputs": [
    {
     "data": {
      "text/html": [
       "<div>\n",
       "<style scoped>\n",
       "    .dataframe tbody tr th:only-of-type {\n",
       "        vertical-align: middle;\n",
       "    }\n",
       "\n",
       "    .dataframe tbody tr th {\n",
       "        vertical-align: top;\n",
       "    }\n",
       "\n",
       "    .dataframe thead th {\n",
       "        text-align: right;\n",
       "    }\n",
       "</style>\n",
       "<table border=\"1\" class=\"dataframe\">\n",
       "  <thead>\n",
       "    <tr style=\"text-align: right;\">\n",
       "      <th></th>\n",
       "      <th>Entity</th>\n",
       "      <th>Date</th>\n",
       "      <th>Cases</th>\n",
       "      <th>Deaths</th>\n",
       "      <th>Daily tests</th>\n",
       "      <th>iso_alpha</th>\n",
       "      <th>month</th>\n",
       "    </tr>\n",
       "  </thead>\n",
       "  <tbody>\n",
       "    <tr>\n",
       "      <th>0</th>\n",
       "      <td>Mexico</td>\n",
       "      <td>2020-01-01</td>\n",
       "      <td>0.0</td>\n",
       "      <td>0.0</td>\n",
       "      <td>25.0</td>\n",
       "      <td>MEX</td>\n",
       "      <td>1</td>\n",
       "    </tr>\n",
       "    <tr>\n",
       "      <th>1</th>\n",
       "      <td>Mexico</td>\n",
       "      <td>2020-01-02</td>\n",
       "      <td>0.0</td>\n",
       "      <td>0.0</td>\n",
       "      <td>72.0</td>\n",
       "      <td>MEX</td>\n",
       "      <td>1</td>\n",
       "    </tr>\n",
       "    <tr>\n",
       "      <th>2</th>\n",
       "      <td>Mexico</td>\n",
       "      <td>2020-01-03</td>\n",
       "      <td>0.0</td>\n",
       "      <td>0.0</td>\n",
       "      <td>89.0</td>\n",
       "      <td>MEX</td>\n",
       "      <td>1</td>\n",
       "    </tr>\n",
       "    <tr>\n",
       "      <th>3</th>\n",
       "      <td>Thailand</td>\n",
       "      <td>2020-01-04</td>\n",
       "      <td>0.0</td>\n",
       "      <td>0.0</td>\n",
       "      <td>2.0</td>\n",
       "      <td>THA</td>\n",
       "      <td>1</td>\n",
       "    </tr>\n",
       "    <tr>\n",
       "      <th>4</th>\n",
       "      <td>Mexico</td>\n",
       "      <td>2020-01-04</td>\n",
       "      <td>0.0</td>\n",
       "      <td>0.0</td>\n",
       "      <td>45.0</td>\n",
       "      <td>MEX</td>\n",
       "      <td>1</td>\n",
       "    </tr>\n",
       "    <tr>\n",
       "      <th>5</th>\n",
       "      <td>Thailand</td>\n",
       "      <td>2020-01-05</td>\n",
       "      <td>0.0</td>\n",
       "      <td>0.0</td>\n",
       "      <td>2.0</td>\n",
       "      <td>THA</td>\n",
       "      <td>1</td>\n",
       "    </tr>\n",
       "    <tr>\n",
       "      <th>6</th>\n",
       "      <td>Mexico</td>\n",
       "      <td>2020-01-05</td>\n",
       "      <td>0.0</td>\n",
       "      <td>0.0</td>\n",
       "      <td>81.0</td>\n",
       "      <td>MEX</td>\n",
       "      <td>1</td>\n",
       "    </tr>\n",
       "    <tr>\n",
       "      <th>7</th>\n",
       "      <td>Thailand</td>\n",
       "      <td>2020-01-06</td>\n",
       "      <td>0.0</td>\n",
       "      <td>0.0</td>\n",
       "      <td>5.0</td>\n",
       "      <td>THA</td>\n",
       "      <td>1</td>\n",
       "    </tr>\n",
       "    <tr>\n",
       "      <th>8</th>\n",
       "      <td>Mexico</td>\n",
       "      <td>2020-01-06</td>\n",
       "      <td>0.0</td>\n",
       "      <td>0.0</td>\n",
       "      <td>167.0</td>\n",
       "      <td>MEX</td>\n",
       "      <td>1</td>\n",
       "    </tr>\n",
       "    <tr>\n",
       "      <th>9</th>\n",
       "      <td>Mexico</td>\n",
       "      <td>2020-01-07</td>\n",
       "      <td>0.0</td>\n",
       "      <td>0.0</td>\n",
       "      <td>187.0</td>\n",
       "      <td>MEX</td>\n",
       "      <td>1</td>\n",
       "    </tr>\n",
       "  </tbody>\n",
       "</table>\n",
       "</div>"
      ],
      "text/plain": [
       "     Entity        Date  Cases  Deaths  Daily tests iso_alpha  month\n",
       "0    Mexico  2020-01-01    0.0     0.0         25.0       MEX      1\n",
       "1    Mexico  2020-01-02    0.0     0.0         72.0       MEX      1\n",
       "2    Mexico  2020-01-03    0.0     0.0         89.0       MEX      1\n",
       "3  Thailand  2020-01-04    0.0     0.0          2.0       THA      1\n",
       "4    Mexico  2020-01-04    0.0     0.0         45.0       MEX      1\n",
       "5  Thailand  2020-01-05    0.0     0.0          2.0       THA      1\n",
       "6    Mexico  2020-01-05    0.0     0.0         81.0       MEX      1\n",
       "7  Thailand  2020-01-06    0.0     0.0          5.0       THA      1\n",
       "8    Mexico  2020-01-06    0.0     0.0        167.0       MEX      1\n",
       "9    Mexico  2020-01-07    0.0     0.0        187.0       MEX      1"
      ]
     },
     "execution_count": 12,
     "metadata": {},
     "output_type": "execute_result"
    }
   ],
   "source": [
    "covid_df.head(10)"
   ]
  },
  {
   "cell_type": "code",
   "execution_count": 13,
   "metadata": {
    "colab": {
     "base_uri": "https://localhost:8080/"
    },
    "id": "8XcIEXgO7vSh",
    "outputId": "3f8c78fc-cbc0-439d-9afa-52ee87f310fe"
   },
   "outputs": [
    {
     "data": {
      "text/plain": [
       "20645"
      ]
     },
     "execution_count": 13,
     "metadata": {},
     "output_type": "execute_result"
    }
   ],
   "source": [
    "len(covid_df)"
   ]
  },
  {
   "cell_type": "markdown",
   "metadata": {
    "id": "-nFC4pHcGr57"
   },
   "source": [
    "# EXPLORATORY DATA ANALYSIS"
   ]
  },
  {
   "cell_type": "code",
   "execution_count": 14,
   "metadata": {
    "colab": {
     "base_uri": "https://localhost:8080/"
    },
    "id": "NkMQnKIZ099u",
    "outputId": "918a2df4-e92d-48a4-a81d-f65bbbd6a83b"
   },
   "outputs": [
    {
     "data": {
      "text/plain": [
       "Entity         0\n",
       "Date           0\n",
       "Cases          0\n",
       "Deaths         0\n",
       "Daily tests    0\n",
       "iso_alpha      0\n",
       "month          0\n",
       "dtype: int64"
      ]
     },
     "execution_count": 14,
     "metadata": {},
     "output_type": "execute_result"
    }
   ],
   "source": [
    "covid_df.isnull().sum()"
   ]
  },
  {
   "cell_type": "code",
   "execution_count": 15,
   "metadata": {
    "colab": {
     "base_uri": "https://localhost:8080/"
    },
    "id": "Z4nClRot5F4y",
    "outputId": "23edf4df-bad3-43e2-915e-9465e01db837"
   },
   "outputs": [
    {
     "name": "stdout",
     "output_type": "stream",
     "text": [
      "<class 'pandas.core.frame.DataFrame'>\n",
      "RangeIndex: 20645 entries, 0 to 20644\n",
      "Data columns (total 7 columns):\n",
      " #   Column       Non-Null Count  Dtype  \n",
      "---  ------       --------------  -----  \n",
      " 0   Entity       20645 non-null  object \n",
      " 1   Date         20645 non-null  object \n",
      " 2   Cases        20645 non-null  float64\n",
      " 3   Deaths       20645 non-null  float64\n",
      " 4   Daily tests  20645 non-null  float64\n",
      " 5   iso_alpha    20645 non-null  object \n",
      " 6   month        20645 non-null  int64  \n",
      "dtypes: float64(3), int64(1), object(3)\n",
      "memory usage: 1.1+ MB\n"
     ]
    }
   ],
   "source": [
    "covid_df.info()"
   ]
  },
  {
   "cell_type": "code",
   "execution_count": 16,
   "metadata": {
    "colab": {
     "base_uri": "https://localhost:8080/",
     "height": 300
    },
    "id": "pVBN6-INHyXr",
    "outputId": "ceece485-efc8-41ed-eaf4-0de92b784330"
   },
   "outputs": [
    {
     "data": {
      "text/html": [
       "<div>\n",
       "<style scoped>\n",
       "    .dataframe tbody tr th:only-of-type {\n",
       "        vertical-align: middle;\n",
       "    }\n",
       "\n",
       "    .dataframe tbody tr th {\n",
       "        vertical-align: top;\n",
       "    }\n",
       "\n",
       "    .dataframe thead th {\n",
       "        text-align: right;\n",
       "    }\n",
       "</style>\n",
       "<table border=\"1\" class=\"dataframe\">\n",
       "  <thead>\n",
       "    <tr style=\"text-align: right;\">\n",
       "      <th></th>\n",
       "      <th>Cases</th>\n",
       "      <th>Deaths</th>\n",
       "      <th>Daily tests</th>\n",
       "      <th>month</th>\n",
       "    </tr>\n",
       "  </thead>\n",
       "  <tbody>\n",
       "    <tr>\n",
       "      <th>count</th>\n",
       "      <td>2.064500e+04</td>\n",
       "      <td>20645.000000</td>\n",
       "      <td>2.064500e+04</td>\n",
       "      <td>20645.000000</td>\n",
       "    </tr>\n",
       "    <tr>\n",
       "      <th>mean</th>\n",
       "      <td>1.247184e+05</td>\n",
       "      <td>4693.475902</td>\n",
       "      <td>2.248130e+04</td>\n",
       "      <td>6.401259</td>\n",
       "    </tr>\n",
       "    <tr>\n",
       "      <th>std</th>\n",
       "      <td>6.068402e+05</td>\n",
       "      <td>17873.361923</td>\n",
       "      <td>1.055780e+05</td>\n",
       "      <td>2.399602</td>\n",
       "    </tr>\n",
       "    <tr>\n",
       "      <th>min</th>\n",
       "      <td>0.000000e+00</td>\n",
       "      <td>0.000000</td>\n",
       "      <td>-3.743000e+03</td>\n",
       "      <td>1.000000</td>\n",
       "    </tr>\n",
       "    <tr>\n",
       "      <th>25%</th>\n",
       "      <td>1.086000e+03</td>\n",
       "      <td>11.000000</td>\n",
       "      <td>9.700000e+01</td>\n",
       "      <td>4.000000</td>\n",
       "    </tr>\n",
       "    <tr>\n",
       "      <th>50%</th>\n",
       "      <td>8.698000e+03</td>\n",
       "      <td>196.000000</td>\n",
       "      <td>2.216000e+03</td>\n",
       "      <td>6.000000</td>\n",
       "    </tr>\n",
       "    <tr>\n",
       "      <th>75%</th>\n",
       "      <td>5.545200e+04</td>\n",
       "      <td>1522.000000</td>\n",
       "      <td>1.025400e+04</td>\n",
       "      <td>8.000000</td>\n",
       "    </tr>\n",
       "    <tr>\n",
       "      <th>max</th>\n",
       "      <td>9.047427e+06</td>\n",
       "      <td>229708.000000</td>\n",
       "      <td>1.492409e+06</td>\n",
       "      <td>10.000000</td>\n",
       "    </tr>\n",
       "  </tbody>\n",
       "</table>\n",
       "</div>"
      ],
      "text/plain": [
       "              Cases         Deaths   Daily tests         month\n",
       "count  2.064500e+04   20645.000000  2.064500e+04  20645.000000\n",
       "mean   1.247184e+05    4693.475902  2.248130e+04      6.401259\n",
       "std    6.068402e+05   17873.361923  1.055780e+05      2.399602\n",
       "min    0.000000e+00       0.000000 -3.743000e+03      1.000000\n",
       "25%    1.086000e+03      11.000000  9.700000e+01      4.000000\n",
       "50%    8.698000e+03     196.000000  2.216000e+03      6.000000\n",
       "75%    5.545200e+04    1522.000000  1.025400e+04      8.000000\n",
       "max    9.047427e+06  229708.000000  1.492409e+06     10.000000"
      ]
     },
     "execution_count": 16,
     "metadata": {},
     "output_type": "execute_result"
    }
   ],
   "source": [
    "covid_df.describe()"
   ]
  },
  {
   "cell_type": "code",
   "execution_count": 17,
   "metadata": {
    "id": "arVTE5jz65Rg"
   },
   "outputs": [],
   "source": [
    "# Sort the dataframe by Date\n",
    "covid_df = covid_df.sort_values(by = 'Date')"
   ]
  },
  {
   "cell_type": "code",
   "execution_count": 18,
   "metadata": {
    "colab": {
     "base_uri": "https://localhost:8080/"
    },
    "id": "O1an-2A85SF4",
    "outputId": "3b48aea4-2c8f-4143-e721-e18103234480"
   },
   "outputs": [
    {
     "name": "stdout",
     "output_type": "stream",
     "text": [
      "Total Number of Countries: 83\n"
     ]
    }
   ],
   "source": [
    "print('Total Number of Countries: {}'.format(covid_df['Entity'].nunique()))"
   ]
  },
  {
   "cell_type": "code",
   "execution_count": 19,
   "metadata": {
    "colab": {
     "base_uri": "https://localhost:8080/"
    },
    "id": "09nrsjEc5cmT",
    "outputId": "4fa6da3d-30eb-4a0e-9ff3-b3e352d26ad3"
   },
   "outputs": [
    {
     "name": "stdout",
     "output_type": "stream",
     "text": [
      "Countries on which have data are:\n",
      "\n",
      "Mexico\n",
      "\n",
      "Thailand\n",
      "\n",
      "Japan\n",
      "\n",
      "United States\n",
      "\n",
      "Vietnam\n",
      "\n",
      "Switzerland\n",
      "\n",
      "Nepal\n",
      "\n",
      "France\n",
      "\n",
      "Australia\n",
      "\n",
      "Malaysia\n",
      "\n",
      "Canada\n",
      "\n",
      "Denmark\n",
      "\n",
      "Israel\n",
      "\n",
      "Czech Republic\n",
      "\n",
      "Sri Lanka\n",
      "\n",
      "India\n",
      "\n",
      "Philippines\n",
      "\n",
      "Finland\n",
      "\n",
      "Italy\n",
      "\n",
      "Sweden\n",
      "\n",
      "United Kingdom\n",
      "\n",
      "Belgium\n",
      "\n",
      "South Africa\n",
      "\n",
      "Guatemala\n",
      "\n",
      "Iran\n",
      "\n",
      "Morocco\n",
      "\n",
      "Kuwait\n",
      "\n",
      "Bahrain\n",
      "\n",
      "Norway\n",
      "\n",
      "Oman\n",
      "\n",
      "Iraq\n",
      "\n",
      "Austria\n",
      "\n",
      "Croatia\n",
      "\n",
      "Algeria\n",
      "\n",
      "Pakistan\n",
      "\n",
      "Romania\n",
      "\n",
      "Greece\n",
      "\n",
      "Iceland\n",
      "\n",
      "Serbia\n",
      "\n",
      "New Zealand\n",
      "\n",
      "Senegal\n",
      "\n",
      "Nigeria\n",
      "\n",
      "Ireland\n",
      "\n",
      "Ecuador\n",
      "\n",
      "Portugal\n",
      "\n",
      "Saudi Arabia\n",
      "\n",
      "Dominican Republic\n",
      "\n",
      "Indonesia\n",
      "\n",
      "Bangladesh\n",
      "\n",
      "Jordan\n",
      "\n",
      "Tunisia\n",
      "\n",
      "Chile\n",
      "\n",
      "Poland\n",
      "\n",
      "Togo\n",
      "\n",
      "Libya\n",
      "\n",
      "Slovenia\n",
      "\n",
      "Hungary\n",
      "\n",
      "Peru\n",
      "\n",
      "Costa Rica\n",
      "\n",
      "Paraguay\n",
      "\n",
      "Colombia\n",
      "\n",
      "Bulgaria\n",
      "\n",
      "Panama\n",
      "\n",
      "Bolivia\n",
      "\n",
      "Jamaica\n",
      "\n",
      "Turkey\n",
      "\n",
      "Cuba\n",
      "\n",
      "Trinidad and Tobago\n",
      "\n",
      "Ghana\n",
      "\n",
      "Kenya\n",
      "\n",
      "Ethiopia\n",
      "\n",
      "Mauritania\n",
      "\n",
      "Namibia\n",
      "\n",
      "Uruguay\n",
      "\n",
      "Rwanda\n",
      "\n",
      "Zambia\n",
      "\n",
      "El Salvador\n",
      "\n",
      "Madagascar\n",
      "\n",
      "Zimbabwe\n",
      "\n",
      "Uganda\n",
      "\n",
      "Mozambique\n",
      "\n",
      "Myanmar\n",
      "\n",
      "Malawi\n",
      "\n"
     ]
    }
   ],
   "source": [
    "print('Countries on which have data are:\\n')\n",
    "\n",
    "for i in covid_df['Entity'].unique():\n",
    "      print(i+'\\n')"
   ]
  },
  {
   "cell_type": "code",
   "execution_count": 20,
   "metadata": {
    "colab": {
     "base_uri": "https://localhost:8080/",
     "height": 424
    },
    "id": "rZ554NIM65Ri",
    "outputId": "ef86c9a4-f5c0-422d-b436-b42fa5dbee62"
   },
   "outputs": [
    {
     "data": {
      "text/html": [
       "<div>\n",
       "<style scoped>\n",
       "    .dataframe tbody tr th:only-of-type {\n",
       "        vertical-align: middle;\n",
       "    }\n",
       "\n",
       "    .dataframe tbody tr th {\n",
       "        vertical-align: top;\n",
       "    }\n",
       "\n",
       "    .dataframe thead th {\n",
       "        text-align: right;\n",
       "    }\n",
       "</style>\n",
       "<table border=\"1\" class=\"dataframe\">\n",
       "  <thead>\n",
       "    <tr style=\"text-align: right;\">\n",
       "      <th></th>\n",
       "      <th>Entity</th>\n",
       "      <th>Date</th>\n",
       "      <th>Cases</th>\n",
       "      <th>Deaths</th>\n",
       "      <th>Daily tests</th>\n",
       "      <th>iso_alpha</th>\n",
       "      <th>month</th>\n",
       "    </tr>\n",
       "  </thead>\n",
       "  <tbody>\n",
       "    <tr>\n",
       "      <th>0</th>\n",
       "      <td>Mexico</td>\n",
       "      <td>2020-01-01</td>\n",
       "      <td>0.0</td>\n",
       "      <td>0.0</td>\n",
       "      <td>25.0</td>\n",
       "      <td>MEX</td>\n",
       "      <td>1</td>\n",
       "    </tr>\n",
       "    <tr>\n",
       "      <th>1178</th>\n",
       "      <td>Thailand</td>\n",
       "      <td>2020-03-08</td>\n",
       "      <td>0.0</td>\n",
       "      <td>0.0</td>\n",
       "      <td>560.0</td>\n",
       "      <td>THA</td>\n",
       "      <td>3</td>\n",
       "    </tr>\n",
       "    <tr>\n",
       "      <th>158</th>\n",
       "      <td>Switzerland</td>\n",
       "      <td>2020-02-01</td>\n",
       "      <td>0.0</td>\n",
       "      <td>0.0</td>\n",
       "      <td>19.0</td>\n",
       "      <td>CHE</td>\n",
       "      <td>2</td>\n",
       "    </tr>\n",
       "    <tr>\n",
       "      <th>981</th>\n",
       "      <td>Libya</td>\n",
       "      <td>2020-03-04</td>\n",
       "      <td>0.0</td>\n",
       "      <td>0.0</td>\n",
       "      <td>3.0</td>\n",
       "      <td>LBY</td>\n",
       "      <td>3</td>\n",
       "    </tr>\n",
       "    <tr>\n",
       "      <th>192</th>\n",
       "      <td>Switzerland</td>\n",
       "      <td>2020-02-02</td>\n",
       "      <td>0.0</td>\n",
       "      <td>0.0</td>\n",
       "      <td>11.0</td>\n",
       "      <td>CHE</td>\n",
       "      <td>2</td>\n",
       "    </tr>\n",
       "    <tr>\n",
       "      <th>...</th>\n",
       "      <td>...</td>\n",
       "      <td>...</td>\n",
       "      <td>...</td>\n",
       "      <td>...</td>\n",
       "      <td>...</td>\n",
       "      <td>...</td>\n",
       "      <td>...</td>\n",
       "    </tr>\n",
       "    <tr>\n",
       "      <th>20244</th>\n",
       "      <td>United States</td>\n",
       "      <td>2020-10-27</td>\n",
       "      <td>8704524.0</td>\n",
       "      <td>225735.0</td>\n",
       "      <td>1229458.0</td>\n",
       "      <td>USA</td>\n",
       "      <td>10</td>\n",
       "    </tr>\n",
       "    <tr>\n",
       "      <th>20368</th>\n",
       "      <td>United States</td>\n",
       "      <td>2020-10-28</td>\n",
       "      <td>8779653.0</td>\n",
       "      <td>226723.0</td>\n",
       "      <td>1355447.0</td>\n",
       "      <td>USA</td>\n",
       "      <td>10</td>\n",
       "    </tr>\n",
       "    <tr>\n",
       "      <th>20410</th>\n",
       "      <td>United States</td>\n",
       "      <td>2020-10-29</td>\n",
       "      <td>8858024.0</td>\n",
       "      <td>227700.0</td>\n",
       "      <td>1366664.0</td>\n",
       "      <td>USA</td>\n",
       "      <td>10</td>\n",
       "    </tr>\n",
       "    <tr>\n",
       "      <th>20489</th>\n",
       "      <td>United States</td>\n",
       "      <td>2020-10-30</td>\n",
       "      <td>8946154.0</td>\n",
       "      <td>228668.0</td>\n",
       "      <td>1414156.0</td>\n",
       "      <td>USA</td>\n",
       "      <td>10</td>\n",
       "    </tr>\n",
       "    <tr>\n",
       "      <th>20641</th>\n",
       "      <td>United States</td>\n",
       "      <td>2020-10-31</td>\n",
       "      <td>9047427.0</td>\n",
       "      <td>229708.0</td>\n",
       "      <td>1161427.0</td>\n",
       "      <td>USA</td>\n",
       "      <td>10</td>\n",
       "    </tr>\n",
       "  </tbody>\n",
       "</table>\n",
       "<p>20645 rows × 7 columns</p>\n",
       "</div>"
      ],
      "text/plain": [
       "              Entity        Date      Cases    Deaths  Daily tests iso_alpha  \\\n",
       "0             Mexico  2020-01-01        0.0       0.0         25.0       MEX   \n",
       "1178        Thailand  2020-03-08        0.0       0.0        560.0       THA   \n",
       "158      Switzerland  2020-02-01        0.0       0.0         19.0       CHE   \n",
       "981            Libya  2020-03-04        0.0       0.0          3.0       LBY   \n",
       "192      Switzerland  2020-02-02        0.0       0.0         11.0       CHE   \n",
       "...              ...         ...        ...       ...          ...       ...   \n",
       "20244  United States  2020-10-27  8704524.0  225735.0    1229458.0       USA   \n",
       "20368  United States  2020-10-28  8779653.0  226723.0    1355447.0       USA   \n",
       "20410  United States  2020-10-29  8858024.0  227700.0    1366664.0       USA   \n",
       "20489  United States  2020-10-30  8946154.0  228668.0    1414156.0       USA   \n",
       "20641  United States  2020-10-31  9047427.0  229708.0    1161427.0       USA   \n",
       "\n",
       "       month  \n",
       "0          1  \n",
       "1178       3  \n",
       "158        2  \n",
       "981        3  \n",
       "192        2  \n",
       "...      ...  \n",
       "20244     10  \n",
       "20368     10  \n",
       "20410     10  \n",
       "20489     10  \n",
       "20641     10  \n",
       "\n",
       "[20645 rows x 7 columns]"
      ]
     },
     "execution_count": 20,
     "metadata": {},
     "output_type": "execute_result"
    }
   ],
   "source": [
    "covid_df = covid_df.sort_values(by = 'Cases')\n",
    "covid_df"
   ]
  },
  {
   "cell_type": "markdown",
   "metadata": {
    "id": "MCMkXByv65Ri"
   },
   "source": [
    "# INTERACTIVE DATA VISUALIZATION "
   ]
  },
  {
   "cell_type": "code",
   "execution_count": 21,
   "metadata": {
    "id": "hGNiYwkkLqfu"
   },
   "outputs": [],
   "source": [
    "def interactive_plot(df, column_name, title):\n",
    "    fig = px.line(title = title)\n",
    "    for i in df['Entity'].unique():\n",
    "        d = df[df['Entity'] == i]\n",
    "        fig.add_scatter(x = d['Date'],y = d[column_name], name = i)\n",
    "    fig.show()"
   ]
  },
  {
   "cell_type": "code",
   "execution_count": 29,
   "metadata": {
    "colab": {
     "base_uri": "https://localhost:8080/",
     "height": 542
    },
    "id": "zzkZZQ5NO2AJ",
    "outputId": "fb9aeea4-b064-4e2d-d473-e4ab7dcbba74"
   },
   "outputs": [
    {
     "data": {
      "text/html": [
       "<iframe\n",
       "    scrolling=\"no\"\n",
       "    width=\"100%\"\n",
       "    height=\"545px\"\n",
       "    src=\"iframe_figures/figure_29.html\"\n",
       "    frameborder=\"0\"\n",
       "    allowfullscreen\n",
       "></iframe>\n"
      ]
     },
     "metadata": {},
     "output_type": "display_data"
    }
   ],
   "source": [
    "interactive_plot(covid_df, 'Cases', 'Number of Covid cases')"
   ]
  },
  {
   "cell_type": "code",
   "execution_count": 30,
   "metadata": {
    "colab": {
     "base_uri": "https://localhost:8080/",
     "height": 542
    },
    "id": "tLqlHlH665Rk",
    "outputId": "36ce8c90-6c68-4a5d-84fb-aa2480877d70"
   },
   "outputs": [
    {
     "data": {
      "text/html": [
       "<iframe\n",
       "    scrolling=\"no\"\n",
       "    width=\"100%\"\n",
       "    height=\"545px\"\n",
       "    src=\"iframe_figures/figure_30.html\"\n",
       "    frameborder=\"0\"\n",
       "    allowfullscreen\n",
       "></iframe>\n"
      ]
     },
     "metadata": {},
     "output_type": "display_data"
    }
   ],
   "source": [
    "interactive_plot(covid_df, 'Daily tests', 'Number of Daily tests')"
   ]
  },
  {
   "cell_type": "code",
   "execution_count": 31,
   "metadata": {
    "colab": {
     "base_uri": "https://localhost:8080/",
     "height": 542
    },
    "id": "hJeGPmwJ65Rk",
    "outputId": "2449b4cd-7dc7-43e7-f3a6-cd8340e6b2e6"
   },
   "outputs": [
    {
     "data": {
      "text/html": [
       "<iframe\n",
       "    scrolling=\"no\"\n",
       "    width=\"100%\"\n",
       "    height=\"545px\"\n",
       "    src=\"iframe_figures/figure_31.html\"\n",
       "    frameborder=\"0\"\n",
       "    allowfullscreen\n",
       "></iframe>\n"
      ]
     },
     "metadata": {},
     "output_type": "display_data"
    }
   ],
   "source": [
    "interactive_plot(covid_df, 'Deaths', 'Number of Deaths')"
   ]
  },
  {
   "cell_type": "markdown",
   "metadata": {
    "id": "939WzNUQ65Rk"
   },
   "source": [
    "# INTERACTIVE DATA VISUALIZATION "
   ]
  },
  {
   "cell_type": "code",
   "execution_count": 32,
   "metadata": {
    "colab": {
     "base_uri": "https://localhost:8080/",
     "height": 424
    },
    "id": "b9Fmk__q65Rl",
    "outputId": "83156298-cba5-4360-8b18-1328f9021993"
   },
   "outputs": [
    {
     "data": {
      "text/html": [
       "<div>\n",
       "<style scoped>\n",
       "    .dataframe tbody tr th:only-of-type {\n",
       "        vertical-align: middle;\n",
       "    }\n",
       "\n",
       "    .dataframe tbody tr th {\n",
       "        vertical-align: top;\n",
       "    }\n",
       "\n",
       "    .dataframe thead th {\n",
       "        text-align: right;\n",
       "    }\n",
       "</style>\n",
       "<table border=\"1\" class=\"dataframe\">\n",
       "  <thead>\n",
       "    <tr style=\"text-align: right;\">\n",
       "      <th></th>\n",
       "      <th>Entity</th>\n",
       "      <th>Date</th>\n",
       "      <th>Cases</th>\n",
       "      <th>Deaths</th>\n",
       "      <th>Daily tests</th>\n",
       "      <th>iso_alpha</th>\n",
       "      <th>month</th>\n",
       "    </tr>\n",
       "  </thead>\n",
       "  <tbody>\n",
       "    <tr>\n",
       "      <th>0</th>\n",
       "      <td>Mexico</td>\n",
       "      <td>2020-01-01</td>\n",
       "      <td>0.0</td>\n",
       "      <td>0.0</td>\n",
       "      <td>25.0</td>\n",
       "      <td>MEX</td>\n",
       "      <td>1</td>\n",
       "    </tr>\n",
       "    <tr>\n",
       "      <th>1178</th>\n",
       "      <td>Thailand</td>\n",
       "      <td>2020-03-08</td>\n",
       "      <td>0.0</td>\n",
       "      <td>0.0</td>\n",
       "      <td>560.0</td>\n",
       "      <td>THA</td>\n",
       "      <td>3</td>\n",
       "    </tr>\n",
       "    <tr>\n",
       "      <th>158</th>\n",
       "      <td>Switzerland</td>\n",
       "      <td>2020-02-01</td>\n",
       "      <td>0.0</td>\n",
       "      <td>0.0</td>\n",
       "      <td>19.0</td>\n",
       "      <td>CHE</td>\n",
       "      <td>2</td>\n",
       "    </tr>\n",
       "    <tr>\n",
       "      <th>981</th>\n",
       "      <td>Libya</td>\n",
       "      <td>2020-03-04</td>\n",
       "      <td>0.0</td>\n",
       "      <td>0.0</td>\n",
       "      <td>3.0</td>\n",
       "      <td>LBY</td>\n",
       "      <td>3</td>\n",
       "    </tr>\n",
       "    <tr>\n",
       "      <th>192</th>\n",
       "      <td>Switzerland</td>\n",
       "      <td>2020-02-02</td>\n",
       "      <td>0.0</td>\n",
       "      <td>0.0</td>\n",
       "      <td>11.0</td>\n",
       "      <td>CHE</td>\n",
       "      <td>2</td>\n",
       "    </tr>\n",
       "    <tr>\n",
       "      <th>...</th>\n",
       "      <td>...</td>\n",
       "      <td>...</td>\n",
       "      <td>...</td>\n",
       "      <td>...</td>\n",
       "      <td>...</td>\n",
       "      <td>...</td>\n",
       "      <td>...</td>\n",
       "    </tr>\n",
       "    <tr>\n",
       "      <th>20244</th>\n",
       "      <td>United States</td>\n",
       "      <td>2020-10-27</td>\n",
       "      <td>8704524.0</td>\n",
       "      <td>225735.0</td>\n",
       "      <td>1229458.0</td>\n",
       "      <td>USA</td>\n",
       "      <td>10</td>\n",
       "    </tr>\n",
       "    <tr>\n",
       "      <th>20368</th>\n",
       "      <td>United States</td>\n",
       "      <td>2020-10-28</td>\n",
       "      <td>8779653.0</td>\n",
       "      <td>226723.0</td>\n",
       "      <td>1355447.0</td>\n",
       "      <td>USA</td>\n",
       "      <td>10</td>\n",
       "    </tr>\n",
       "    <tr>\n",
       "      <th>20410</th>\n",
       "      <td>United States</td>\n",
       "      <td>2020-10-29</td>\n",
       "      <td>8858024.0</td>\n",
       "      <td>227700.0</td>\n",
       "      <td>1366664.0</td>\n",
       "      <td>USA</td>\n",
       "      <td>10</td>\n",
       "    </tr>\n",
       "    <tr>\n",
       "      <th>20489</th>\n",
       "      <td>United States</td>\n",
       "      <td>2020-10-30</td>\n",
       "      <td>8946154.0</td>\n",
       "      <td>228668.0</td>\n",
       "      <td>1414156.0</td>\n",
       "      <td>USA</td>\n",
       "      <td>10</td>\n",
       "    </tr>\n",
       "    <tr>\n",
       "      <th>20641</th>\n",
       "      <td>United States</td>\n",
       "      <td>2020-10-31</td>\n",
       "      <td>9047427.0</td>\n",
       "      <td>229708.0</td>\n",
       "      <td>1161427.0</td>\n",
       "      <td>USA</td>\n",
       "      <td>10</td>\n",
       "    </tr>\n",
       "  </tbody>\n",
       "</table>\n",
       "<p>20645 rows × 7 columns</p>\n",
       "</div>"
      ],
      "text/plain": [
       "              Entity        Date      Cases    Deaths  Daily tests iso_alpha  \\\n",
       "0             Mexico  2020-01-01        0.0       0.0         25.0       MEX   \n",
       "1178        Thailand  2020-03-08        0.0       0.0        560.0       THA   \n",
       "158      Switzerland  2020-02-01        0.0       0.0         19.0       CHE   \n",
       "981            Libya  2020-03-04        0.0       0.0          3.0       LBY   \n",
       "192      Switzerland  2020-02-02        0.0       0.0         11.0       CHE   \n",
       "...              ...         ...        ...       ...          ...       ...   \n",
       "20244  United States  2020-10-27  8704524.0  225735.0    1229458.0       USA   \n",
       "20368  United States  2020-10-28  8779653.0  226723.0    1355447.0       USA   \n",
       "20410  United States  2020-10-29  8858024.0  227700.0    1366664.0       USA   \n",
       "20489  United States  2020-10-30  8946154.0  228668.0    1414156.0       USA   \n",
       "20641  United States  2020-10-31  9047427.0  229708.0    1161427.0       USA   \n",
       "\n",
       "       month  \n",
       "0          1  \n",
       "1178       3  \n",
       "158        2  \n",
       "981        3  \n",
       "192        2  \n",
       "...      ...  \n",
       "20244     10  \n",
       "20368     10  \n",
       "20410     10  \n",
       "20489     10  \n",
       "20641     10  \n",
       "\n",
       "[20645 rows x 7 columns]"
      ]
     },
     "execution_count": 32,
     "metadata": {},
     "output_type": "execute_result"
    }
   ],
   "source": [
    "covid_df"
   ]
  },
  {
   "cell_type": "code",
   "execution_count": 33,
   "metadata": {
    "colab": {
     "base_uri": "https://localhost:8080/",
     "height": 542
    },
    "id": "d2XYFuXm65Rl",
    "outputId": "57d0497d-81d1-46d0-a656-c5241b6ba136"
   },
   "outputs": [
    {
     "data": {
      "text/html": [
       "<iframe\n",
       "    scrolling=\"no\"\n",
       "    width=\"100%\"\n",
       "    height=\"545px\"\n",
       "    src=\"iframe_figures/figure_33.html\"\n",
       "    frameborder=\"0\"\n",
       "    allowfullscreen\n",
       "></iframe>\n"
      ]
     },
     "metadata": {},
     "output_type": "display_data"
    }
   ],
   "source": [
    "fig = px.choropleth(covid_df, locations = \"iso_alpha\", # locations iso code\n",
    "                    color = 'Cases', # column representing the color itensity\n",
    "                    animation_frame = 'month') # timeframe for animation\n",
    "fig.show()"
   ]
  },
  {
   "cell_type": "code",
   "execution_count": 34,
   "metadata": {
    "colab": {
     "base_uri": "https://localhost:8080/",
     "height": 542
    },
    "id": "yQjkWW8865Rm",
    "outputId": "5755cb38-0a83-479b-d23b-096dbdc0a000"
   },
   "outputs": [
    {
     "data": {
      "text/html": [
       "<iframe\n",
       "    scrolling=\"no\"\n",
       "    width=\"100%\"\n",
       "    height=\"545px\"\n",
       "    src=\"iframe_figures/figure_34.html\"\n",
       "    frameborder=\"0\"\n",
       "    allowfullscreen\n",
       "></iframe>\n"
      ]
     },
     "metadata": {},
     "output_type": "display_data"
    }
   ],
   "source": [
    "# Covid deaths animation from January 2020 to November 2020\n",
    "fig = px.choropleth(covid_df, locations = \"iso_alpha\", # locations iso code\n",
    "                    color = 'Deaths', # column representing the color itensity\n",
    "                    hover_name = \"Entity\", # column to add to hover information\n",
    "                    animation_frame = 'month') # timeframe for animation\n",
    "\n",
    "fig.show()"
   ]
  },
  {
   "cell_type": "code",
   "execution_count": 35,
   "metadata": {
    "colab": {
     "base_uri": "https://localhost:8080/",
     "height": 542
    },
    "id": "93b-7O5W65Rm",
    "outputId": "ddb6fd29-273d-4cdd-c532-ac733d2b83a4"
   },
   "outputs": [
    {
     "data": {
      "text/html": [
       "<iframe\n",
       "    scrolling=\"no\"\n",
       "    width=\"100%\"\n",
       "    height=\"545px\"\n",
       "    src=\"iframe_figures/figure_35.html\"\n",
       "    frameborder=\"0\"\n",
       "    allowfullscreen\n",
       "></iframe>\n"
      ]
     },
     "metadata": {},
     "output_type": "display_data"
    }
   ],
   "source": [
    "# Covid testing animation from January 2020 to November 2020\n",
    "fig = px.choropleth(covid_df, locations = \"iso_alpha\", # locations iso code\n",
    "                    color = 'Daily tests', # column representing the color itensity\n",
    "                    hover_name = \"Entity\", # column to add to hover information\n",
    "                    animation_frame = 'month') # timeframe for animation\n",
    "fig.show()"
   ]
  },
  {
   "cell_type": "code",
   "execution_count": 36,
   "metadata": {
    "colab": {
     "base_uri": "https://localhost:8080/",
     "height": 542
    },
    "id": "1pIbpBl465Rn",
    "outputId": "2eaa1c79-bf7a-4208-d303-6163462ba516"
   },
   "outputs": [
    {
     "data": {
      "text/html": [
       "<iframe\n",
       "    scrolling=\"no\"\n",
       "    width=\"100%\"\n",
       "    height=\"545px\"\n",
       "    src=\"iframe_figures/figure_36.html\"\n",
       "    frameborder=\"0\"\n",
       "    allowfullscreen\n",
       "></iframe>\n"
      ]
     },
     "metadata": {},
     "output_type": "display_data"
    }
   ],
   "source": [
    "fig = px.choropleth(covid_df, locations = \"iso_alpha\", #locations iso code\n",
    "                    color = 'Daily tests', # column representing the color itensity\n",
    "                    hover_name = \"Entity\", # column to add to hover information\n",
    "                    animation_frame = 'Date') # timeframe for animation\n",
    "fig.show()"
   ]
  },
  {
   "cell_type": "markdown",
   "metadata": {
    "id": "VoyPWWCBJtfT"
   },
   "source": [
    "# PREPARING THE DATA FOR PROPHET MODEL\n",
    "\n",
    "---\n",
    "\n"
   ]
  },
  {
   "cell_type": "code",
   "execution_count": 37,
   "metadata": {
    "colab": {
     "base_uri": "https://localhost:8080/",
     "height": 424
    },
    "id": "VxonbEJJ65Rn",
    "outputId": "2157a82c-9769-4e3c-bdc9-75abf0f944b9"
   },
   "outputs": [
    {
     "data": {
      "text/html": [
       "<div>\n",
       "<style scoped>\n",
       "    .dataframe tbody tr th:only-of-type {\n",
       "        vertical-align: middle;\n",
       "    }\n",
       "\n",
       "    .dataframe tbody tr th {\n",
       "        vertical-align: top;\n",
       "    }\n",
       "\n",
       "    .dataframe thead th {\n",
       "        text-align: right;\n",
       "    }\n",
       "</style>\n",
       "<table border=\"1\" class=\"dataframe\">\n",
       "  <thead>\n",
       "    <tr style=\"text-align: right;\">\n",
       "      <th></th>\n",
       "      <th>Entity</th>\n",
       "      <th>Date</th>\n",
       "      <th>Cases</th>\n",
       "      <th>Deaths</th>\n",
       "      <th>Daily tests</th>\n",
       "      <th>iso_alpha</th>\n",
       "      <th>month</th>\n",
       "    </tr>\n",
       "  </thead>\n",
       "  <tbody>\n",
       "    <tr>\n",
       "      <th>0</th>\n",
       "      <td>Mexico</td>\n",
       "      <td>2020-01-01</td>\n",
       "      <td>0.0</td>\n",
       "      <td>0.0</td>\n",
       "      <td>25.0</td>\n",
       "      <td>MEX</td>\n",
       "      <td>1</td>\n",
       "    </tr>\n",
       "    <tr>\n",
       "      <th>1178</th>\n",
       "      <td>Thailand</td>\n",
       "      <td>2020-03-08</td>\n",
       "      <td>0.0</td>\n",
       "      <td>0.0</td>\n",
       "      <td>560.0</td>\n",
       "      <td>THA</td>\n",
       "      <td>3</td>\n",
       "    </tr>\n",
       "    <tr>\n",
       "      <th>158</th>\n",
       "      <td>Switzerland</td>\n",
       "      <td>2020-02-01</td>\n",
       "      <td>0.0</td>\n",
       "      <td>0.0</td>\n",
       "      <td>19.0</td>\n",
       "      <td>CHE</td>\n",
       "      <td>2</td>\n",
       "    </tr>\n",
       "    <tr>\n",
       "      <th>981</th>\n",
       "      <td>Libya</td>\n",
       "      <td>2020-03-04</td>\n",
       "      <td>0.0</td>\n",
       "      <td>0.0</td>\n",
       "      <td>3.0</td>\n",
       "      <td>LBY</td>\n",
       "      <td>3</td>\n",
       "    </tr>\n",
       "    <tr>\n",
       "      <th>192</th>\n",
       "      <td>Switzerland</td>\n",
       "      <td>2020-02-02</td>\n",
       "      <td>0.0</td>\n",
       "      <td>0.0</td>\n",
       "      <td>11.0</td>\n",
       "      <td>CHE</td>\n",
       "      <td>2</td>\n",
       "    </tr>\n",
       "    <tr>\n",
       "      <th>...</th>\n",
       "      <td>...</td>\n",
       "      <td>...</td>\n",
       "      <td>...</td>\n",
       "      <td>...</td>\n",
       "      <td>...</td>\n",
       "      <td>...</td>\n",
       "      <td>...</td>\n",
       "    </tr>\n",
       "    <tr>\n",
       "      <th>20244</th>\n",
       "      <td>United States</td>\n",
       "      <td>2020-10-27</td>\n",
       "      <td>8704524.0</td>\n",
       "      <td>225735.0</td>\n",
       "      <td>1229458.0</td>\n",
       "      <td>USA</td>\n",
       "      <td>10</td>\n",
       "    </tr>\n",
       "    <tr>\n",
       "      <th>20368</th>\n",
       "      <td>United States</td>\n",
       "      <td>2020-10-28</td>\n",
       "      <td>8779653.0</td>\n",
       "      <td>226723.0</td>\n",
       "      <td>1355447.0</td>\n",
       "      <td>USA</td>\n",
       "      <td>10</td>\n",
       "    </tr>\n",
       "    <tr>\n",
       "      <th>20410</th>\n",
       "      <td>United States</td>\n",
       "      <td>2020-10-29</td>\n",
       "      <td>8858024.0</td>\n",
       "      <td>227700.0</td>\n",
       "      <td>1366664.0</td>\n",
       "      <td>USA</td>\n",
       "      <td>10</td>\n",
       "    </tr>\n",
       "    <tr>\n",
       "      <th>20489</th>\n",
       "      <td>United States</td>\n",
       "      <td>2020-10-30</td>\n",
       "      <td>8946154.0</td>\n",
       "      <td>228668.0</td>\n",
       "      <td>1414156.0</td>\n",
       "      <td>USA</td>\n",
       "      <td>10</td>\n",
       "    </tr>\n",
       "    <tr>\n",
       "      <th>20641</th>\n",
       "      <td>United States</td>\n",
       "      <td>2020-10-31</td>\n",
       "      <td>9047427.0</td>\n",
       "      <td>229708.0</td>\n",
       "      <td>1161427.0</td>\n",
       "      <td>USA</td>\n",
       "      <td>10</td>\n",
       "    </tr>\n",
       "  </tbody>\n",
       "</table>\n",
       "<p>20645 rows × 7 columns</p>\n",
       "</div>"
      ],
      "text/plain": [
       "              Entity        Date      Cases    Deaths  Daily tests iso_alpha  \\\n",
       "0             Mexico  2020-01-01        0.0       0.0         25.0       MEX   \n",
       "1178        Thailand  2020-03-08        0.0       0.0        560.0       THA   \n",
       "158      Switzerland  2020-02-01        0.0       0.0         19.0       CHE   \n",
       "981            Libya  2020-03-04        0.0       0.0          3.0       LBY   \n",
       "192      Switzerland  2020-02-02        0.0       0.0         11.0       CHE   \n",
       "...              ...         ...        ...       ...          ...       ...   \n",
       "20244  United States  2020-10-27  8704524.0  225735.0    1229458.0       USA   \n",
       "20368  United States  2020-10-28  8779653.0  226723.0    1355447.0       USA   \n",
       "20410  United States  2020-10-29  8858024.0  227700.0    1366664.0       USA   \n",
       "20489  United States  2020-10-30  8946154.0  228668.0    1414156.0       USA   \n",
       "20641  United States  2020-10-31  9047427.0  229708.0    1161427.0       USA   \n",
       "\n",
       "       month  \n",
       "0          1  \n",
       "1178       3  \n",
       "158        2  \n",
       "981        3  \n",
       "192        2  \n",
       "...      ...  \n",
       "20244     10  \n",
       "20368     10  \n",
       "20410     10  \n",
       "20489     10  \n",
       "20641     10  \n",
       "\n",
       "[20645 rows x 7 columns]"
      ]
     },
     "execution_count": 37,
     "metadata": {},
     "output_type": "execute_result"
    }
   ],
   "source": [
    "covid_df"
   ]
  },
  {
   "cell_type": "code",
   "execution_count": 38,
   "metadata": {
    "colab": {
     "base_uri": "https://localhost:8080/",
     "height": 424
    },
    "id": "LA1XN-zgBMHI",
    "outputId": "896474bd-a443-4117-b9fd-ee64de7ea7c1"
   },
   "outputs": [
    {
     "data": {
      "text/html": [
       "<div>\n",
       "<style scoped>\n",
       "    .dataframe tbody tr th:only-of-type {\n",
       "        vertical-align: middle;\n",
       "    }\n",
       "\n",
       "    .dataframe tbody tr th {\n",
       "        vertical-align: top;\n",
       "    }\n",
       "\n",
       "    .dataframe thead th {\n",
       "        text-align: right;\n",
       "    }\n",
       "</style>\n",
       "<table border=\"1\" class=\"dataframe\">\n",
       "  <thead>\n",
       "    <tr style=\"text-align: right;\">\n",
       "      <th></th>\n",
       "      <th>Entity</th>\n",
       "      <th>Date</th>\n",
       "      <th>Cases</th>\n",
       "      <th>Deaths</th>\n",
       "      <th>Daily tests</th>\n",
       "      <th>iso_alpha</th>\n",
       "      <th>month</th>\n",
       "    </tr>\n",
       "  </thead>\n",
       "  <tbody>\n",
       "    <tr>\n",
       "      <th>52</th>\n",
       "      <td>United States</td>\n",
       "      <td>2020-01-23</td>\n",
       "      <td>1.0</td>\n",
       "      <td>0.0</td>\n",
       "      <td>0.0</td>\n",
       "      <td>USA</td>\n",
       "      <td>1</td>\n",
       "    </tr>\n",
       "    <tr>\n",
       "      <th>59</th>\n",
       "      <td>United States</td>\n",
       "      <td>2020-01-24</td>\n",
       "      <td>1.0</td>\n",
       "      <td>0.0</td>\n",
       "      <td>0.0</td>\n",
       "      <td>USA</td>\n",
       "      <td>1</td>\n",
       "    </tr>\n",
       "    <tr>\n",
       "      <th>43</th>\n",
       "      <td>United States</td>\n",
       "      <td>2020-01-21</td>\n",
       "      <td>1.0</td>\n",
       "      <td>0.0</td>\n",
       "      <td>0.0</td>\n",
       "      <td>USA</td>\n",
       "      <td>1</td>\n",
       "    </tr>\n",
       "    <tr>\n",
       "      <th>47</th>\n",
       "      <td>United States</td>\n",
       "      <td>2020-01-22</td>\n",
       "      <td>1.0</td>\n",
       "      <td>0.0</td>\n",
       "      <td>0.0</td>\n",
       "      <td>USA</td>\n",
       "      <td>1</td>\n",
       "    </tr>\n",
       "    <tr>\n",
       "      <th>77</th>\n",
       "      <td>United States</td>\n",
       "      <td>2020-01-26</td>\n",
       "      <td>2.0</td>\n",
       "      <td>0.0</td>\n",
       "      <td>0.0</td>\n",
       "      <td>USA</td>\n",
       "      <td>1</td>\n",
       "    </tr>\n",
       "    <tr>\n",
       "      <th>...</th>\n",
       "      <td>...</td>\n",
       "      <td>...</td>\n",
       "      <td>...</td>\n",
       "      <td>...</td>\n",
       "      <td>...</td>\n",
       "      <td>...</td>\n",
       "      <td>...</td>\n",
       "    </tr>\n",
       "    <tr>\n",
       "      <th>20244</th>\n",
       "      <td>United States</td>\n",
       "      <td>2020-10-27</td>\n",
       "      <td>8704524.0</td>\n",
       "      <td>225735.0</td>\n",
       "      <td>1229458.0</td>\n",
       "      <td>USA</td>\n",
       "      <td>10</td>\n",
       "    </tr>\n",
       "    <tr>\n",
       "      <th>20368</th>\n",
       "      <td>United States</td>\n",
       "      <td>2020-10-28</td>\n",
       "      <td>8779653.0</td>\n",
       "      <td>226723.0</td>\n",
       "      <td>1355447.0</td>\n",
       "      <td>USA</td>\n",
       "      <td>10</td>\n",
       "    </tr>\n",
       "    <tr>\n",
       "      <th>20410</th>\n",
       "      <td>United States</td>\n",
       "      <td>2020-10-29</td>\n",
       "      <td>8858024.0</td>\n",
       "      <td>227700.0</td>\n",
       "      <td>1366664.0</td>\n",
       "      <td>USA</td>\n",
       "      <td>10</td>\n",
       "    </tr>\n",
       "    <tr>\n",
       "      <th>20489</th>\n",
       "      <td>United States</td>\n",
       "      <td>2020-10-30</td>\n",
       "      <td>8946154.0</td>\n",
       "      <td>228668.0</td>\n",
       "      <td>1414156.0</td>\n",
       "      <td>USA</td>\n",
       "      <td>10</td>\n",
       "    </tr>\n",
       "    <tr>\n",
       "      <th>20641</th>\n",
       "      <td>United States</td>\n",
       "      <td>2020-10-31</td>\n",
       "      <td>9047427.0</td>\n",
       "      <td>229708.0</td>\n",
       "      <td>1161427.0</td>\n",
       "      <td>USA</td>\n",
       "      <td>10</td>\n",
       "    </tr>\n",
       "  </tbody>\n",
       "</table>\n",
       "<p>285 rows × 7 columns</p>\n",
       "</div>"
      ],
      "text/plain": [
       "              Entity        Date      Cases    Deaths  Daily tests iso_alpha  \\\n",
       "52     United States  2020-01-23        1.0       0.0          0.0       USA   \n",
       "59     United States  2020-01-24        1.0       0.0          0.0       USA   \n",
       "43     United States  2020-01-21        1.0       0.0          0.0       USA   \n",
       "47     United States  2020-01-22        1.0       0.0          0.0       USA   \n",
       "77     United States  2020-01-26        2.0       0.0          0.0       USA   \n",
       "...              ...         ...        ...       ...          ...       ...   \n",
       "20244  United States  2020-10-27  8704524.0  225735.0    1229458.0       USA   \n",
       "20368  United States  2020-10-28  8779653.0  226723.0    1355447.0       USA   \n",
       "20410  United States  2020-10-29  8858024.0  227700.0    1366664.0       USA   \n",
       "20489  United States  2020-10-30  8946154.0  228668.0    1414156.0       USA   \n",
       "20641  United States  2020-10-31  9047427.0  229708.0    1161427.0       USA   \n",
       "\n",
       "       month  \n",
       "52         1  \n",
       "59         1  \n",
       "43         1  \n",
       "47         1  \n",
       "77         1  \n",
       "...      ...  \n",
       "20244     10  \n",
       "20368     10  \n",
       "20410     10  \n",
       "20489     10  \n",
       "20641     10  \n",
       "\n",
       "[285 rows x 7 columns]"
      ]
     },
     "execution_count": 38,
     "metadata": {},
     "output_type": "execute_result"
    }
   ],
   "source": [
    "# We are going to focus on US data for the forcasting\n",
    "\n",
    "\n",
    "US_df = covid_df[covid_df['Entity'] == 'United States']  \n",
    "US_df"
   ]
  },
  {
   "cell_type": "code",
   "execution_count": 39,
   "metadata": {
    "id": "wBumrK6165Ro"
   },
   "outputs": [],
   "source": [
    "US_df = US_df[['Date','Cases']]\n"
   ]
  },
  {
   "cell_type": "code",
   "execution_count": 40,
   "metadata": {
    "colab": {
     "base_uri": "https://localhost:8080/",
     "height": 424
    },
    "id": "aMDAqfvi65Ro",
    "outputId": "e79c5315-9afb-4db1-bab4-7023107396cc"
   },
   "outputs": [
    {
     "data": {
      "text/html": [
       "<div>\n",
       "<style scoped>\n",
       "    .dataframe tbody tr th:only-of-type {\n",
       "        vertical-align: middle;\n",
       "    }\n",
       "\n",
       "    .dataframe tbody tr th {\n",
       "        vertical-align: top;\n",
       "    }\n",
       "\n",
       "    .dataframe thead th {\n",
       "        text-align: right;\n",
       "    }\n",
       "</style>\n",
       "<table border=\"1\" class=\"dataframe\">\n",
       "  <thead>\n",
       "    <tr style=\"text-align: right;\">\n",
       "      <th></th>\n",
       "      <th>Date</th>\n",
       "      <th>Cases</th>\n",
       "    </tr>\n",
       "  </thead>\n",
       "  <tbody>\n",
       "    <tr>\n",
       "      <th>52</th>\n",
       "      <td>2020-01-23</td>\n",
       "      <td>1.0</td>\n",
       "    </tr>\n",
       "    <tr>\n",
       "      <th>59</th>\n",
       "      <td>2020-01-24</td>\n",
       "      <td>1.0</td>\n",
       "    </tr>\n",
       "    <tr>\n",
       "      <th>43</th>\n",
       "      <td>2020-01-21</td>\n",
       "      <td>1.0</td>\n",
       "    </tr>\n",
       "    <tr>\n",
       "      <th>47</th>\n",
       "      <td>2020-01-22</td>\n",
       "      <td>1.0</td>\n",
       "    </tr>\n",
       "    <tr>\n",
       "      <th>77</th>\n",
       "      <td>2020-01-26</td>\n",
       "      <td>2.0</td>\n",
       "    </tr>\n",
       "    <tr>\n",
       "      <th>...</th>\n",
       "      <td>...</td>\n",
       "      <td>...</td>\n",
       "    </tr>\n",
       "    <tr>\n",
       "      <th>20244</th>\n",
       "      <td>2020-10-27</td>\n",
       "      <td>8704524.0</td>\n",
       "    </tr>\n",
       "    <tr>\n",
       "      <th>20368</th>\n",
       "      <td>2020-10-28</td>\n",
       "      <td>8779653.0</td>\n",
       "    </tr>\n",
       "    <tr>\n",
       "      <th>20410</th>\n",
       "      <td>2020-10-29</td>\n",
       "      <td>8858024.0</td>\n",
       "    </tr>\n",
       "    <tr>\n",
       "      <th>20489</th>\n",
       "      <td>2020-10-30</td>\n",
       "      <td>8946154.0</td>\n",
       "    </tr>\n",
       "    <tr>\n",
       "      <th>20641</th>\n",
       "      <td>2020-10-31</td>\n",
       "      <td>9047427.0</td>\n",
       "    </tr>\n",
       "  </tbody>\n",
       "</table>\n",
       "<p>285 rows × 2 columns</p>\n",
       "</div>"
      ],
      "text/plain": [
       "             Date      Cases\n",
       "52     2020-01-23        1.0\n",
       "59     2020-01-24        1.0\n",
       "43     2020-01-21        1.0\n",
       "47     2020-01-22        1.0\n",
       "77     2020-01-26        2.0\n",
       "...           ...        ...\n",
       "20244  2020-10-27  8704524.0\n",
       "20368  2020-10-28  8779653.0\n",
       "20410  2020-10-29  8858024.0\n",
       "20489  2020-10-30  8946154.0\n",
       "20641  2020-10-31  9047427.0\n",
       "\n",
       "[285 rows x 2 columns]"
      ]
     },
     "execution_count": 40,
     "metadata": {},
     "output_type": "execute_result"
    }
   ],
   "source": [
    "US_df"
   ]
  },
  {
   "cell_type": "code",
   "execution_count": 41,
   "metadata": {
    "colab": {
     "base_uri": "https://localhost:8080/",
     "height": 424
    },
    "id": "ZYSY7xae65Ro",
    "outputId": "3844756b-8839-4c2e-d7fe-2c0f068eb4af"
   },
   "outputs": [
    {
     "data": {
      "text/html": [
       "<div>\n",
       "<style scoped>\n",
       "    .dataframe tbody tr th:only-of-type {\n",
       "        vertical-align: middle;\n",
       "    }\n",
       "\n",
       "    .dataframe tbody tr th {\n",
       "        vertical-align: top;\n",
       "    }\n",
       "\n",
       "    .dataframe thead th {\n",
       "        text-align: right;\n",
       "    }\n",
       "</style>\n",
       "<table border=\"1\" class=\"dataframe\">\n",
       "  <thead>\n",
       "    <tr style=\"text-align: right;\">\n",
       "      <th></th>\n",
       "      <th>Date</th>\n",
       "      <th>Cases</th>\n",
       "    </tr>\n",
       "  </thead>\n",
       "  <tbody>\n",
       "    <tr>\n",
       "      <th>0</th>\n",
       "      <td>2020-01-23</td>\n",
       "      <td>1.0</td>\n",
       "    </tr>\n",
       "    <tr>\n",
       "      <th>1</th>\n",
       "      <td>2020-01-24</td>\n",
       "      <td>1.0</td>\n",
       "    </tr>\n",
       "    <tr>\n",
       "      <th>2</th>\n",
       "      <td>2020-01-21</td>\n",
       "      <td>1.0</td>\n",
       "    </tr>\n",
       "    <tr>\n",
       "      <th>3</th>\n",
       "      <td>2020-01-22</td>\n",
       "      <td>1.0</td>\n",
       "    </tr>\n",
       "    <tr>\n",
       "      <th>4</th>\n",
       "      <td>2020-01-26</td>\n",
       "      <td>2.0</td>\n",
       "    </tr>\n",
       "    <tr>\n",
       "      <th>...</th>\n",
       "      <td>...</td>\n",
       "      <td>...</td>\n",
       "    </tr>\n",
       "    <tr>\n",
       "      <th>280</th>\n",
       "      <td>2020-10-27</td>\n",
       "      <td>8704524.0</td>\n",
       "    </tr>\n",
       "    <tr>\n",
       "      <th>281</th>\n",
       "      <td>2020-10-28</td>\n",
       "      <td>8779653.0</td>\n",
       "    </tr>\n",
       "    <tr>\n",
       "      <th>282</th>\n",
       "      <td>2020-10-29</td>\n",
       "      <td>8858024.0</td>\n",
       "    </tr>\n",
       "    <tr>\n",
       "      <th>283</th>\n",
       "      <td>2020-10-30</td>\n",
       "      <td>8946154.0</td>\n",
       "    </tr>\n",
       "    <tr>\n",
       "      <th>284</th>\n",
       "      <td>2020-10-31</td>\n",
       "      <td>9047427.0</td>\n",
       "    </tr>\n",
       "  </tbody>\n",
       "</table>\n",
       "<p>285 rows × 2 columns</p>\n",
       "</div>"
      ],
      "text/plain": [
       "           Date      Cases\n",
       "0    2020-01-23        1.0\n",
       "1    2020-01-24        1.0\n",
       "2    2020-01-21        1.0\n",
       "3    2020-01-22        1.0\n",
       "4    2020-01-26        2.0\n",
       "..          ...        ...\n",
       "280  2020-10-27  8704524.0\n",
       "281  2020-10-28  8779653.0\n",
       "282  2020-10-29  8858024.0\n",
       "283  2020-10-30  8946154.0\n",
       "284  2020-10-31  9047427.0\n",
       "\n",
       "[285 rows x 2 columns]"
      ]
     },
     "execution_count": 41,
     "metadata": {},
     "output_type": "execute_result"
    }
   ],
   "source": [
    "# reset index\n",
    "US_df.reset_index(inplace = True, drop = True)\n",
    "US_df"
   ]
  },
  {
   "cell_type": "code",
   "execution_count": 42,
   "metadata": {
    "id": "udU5tx0r65Ro"
   },
   "outputs": [],
   "source": [
    "US_df.columns = ['ds','y']"
   ]
  },
  {
   "cell_type": "code",
   "execution_count": 43,
   "metadata": {
    "id": "MNzA8lRC65Rp"
   },
   "outputs": [],
   "source": [
    "train , test = US_df[ US_df['ds'] <= '2020-09-30'], US_df[US_df['ds'] >=  '2020-10-01']"
   ]
  },
  {
   "cell_type": "code",
   "execution_count": 44,
   "metadata": {
    "colab": {
     "base_uri": "https://localhost:8080/",
     "height": 424
    },
    "id": "705p2t8T65Rp",
    "outputId": "433c64aa-a14a-479c-bed1-6c76777600cb"
   },
   "outputs": [
    {
     "data": {
      "text/html": [
       "<div>\n",
       "<style scoped>\n",
       "    .dataframe tbody tr th:only-of-type {\n",
       "        vertical-align: middle;\n",
       "    }\n",
       "\n",
       "    .dataframe tbody tr th {\n",
       "        vertical-align: top;\n",
       "    }\n",
       "\n",
       "    .dataframe thead th {\n",
       "        text-align: right;\n",
       "    }\n",
       "</style>\n",
       "<table border=\"1\" class=\"dataframe\">\n",
       "  <thead>\n",
       "    <tr style=\"text-align: right;\">\n",
       "      <th></th>\n",
       "      <th>ds</th>\n",
       "      <th>y</th>\n",
       "    </tr>\n",
       "  </thead>\n",
       "  <tbody>\n",
       "    <tr>\n",
       "      <th>0</th>\n",
       "      <td>2020-01-23</td>\n",
       "      <td>1.0</td>\n",
       "    </tr>\n",
       "    <tr>\n",
       "      <th>1</th>\n",
       "      <td>2020-01-24</td>\n",
       "      <td>1.0</td>\n",
       "    </tr>\n",
       "    <tr>\n",
       "      <th>2</th>\n",
       "      <td>2020-01-21</td>\n",
       "      <td>1.0</td>\n",
       "    </tr>\n",
       "    <tr>\n",
       "      <th>3</th>\n",
       "      <td>2020-01-22</td>\n",
       "      <td>1.0</td>\n",
       "    </tr>\n",
       "    <tr>\n",
       "      <th>4</th>\n",
       "      <td>2020-01-26</td>\n",
       "      <td>2.0</td>\n",
       "    </tr>\n",
       "    <tr>\n",
       "      <th>...</th>\n",
       "      <td>...</td>\n",
       "      <td>...</td>\n",
       "    </tr>\n",
       "    <tr>\n",
       "      <th>249</th>\n",
       "      <td>2020-09-26</td>\n",
       "      <td>7033430.0</td>\n",
       "    </tr>\n",
       "    <tr>\n",
       "      <th>250</th>\n",
       "      <td>2020-09-27</td>\n",
       "      <td>7078798.0</td>\n",
       "    </tr>\n",
       "    <tr>\n",
       "      <th>251</th>\n",
       "      <td>2020-09-28</td>\n",
       "      <td>7115046.0</td>\n",
       "    </tr>\n",
       "    <tr>\n",
       "      <th>252</th>\n",
       "      <td>2020-09-29</td>\n",
       "      <td>7148044.0</td>\n",
       "    </tr>\n",
       "    <tr>\n",
       "      <th>253</th>\n",
       "      <td>2020-09-30</td>\n",
       "      <td>7191061.0</td>\n",
       "    </tr>\n",
       "  </tbody>\n",
       "</table>\n",
       "<p>254 rows × 2 columns</p>\n",
       "</div>"
      ],
      "text/plain": [
       "             ds          y\n",
       "0    2020-01-23        1.0\n",
       "1    2020-01-24        1.0\n",
       "2    2020-01-21        1.0\n",
       "3    2020-01-22        1.0\n",
       "4    2020-01-26        2.0\n",
       "..          ...        ...\n",
       "249  2020-09-26  7033430.0\n",
       "250  2020-09-27  7078798.0\n",
       "251  2020-09-28  7115046.0\n",
       "252  2020-09-29  7148044.0\n",
       "253  2020-09-30  7191061.0\n",
       "\n",
       "[254 rows x 2 columns]"
      ]
     },
     "execution_count": 44,
     "metadata": {},
     "output_type": "execute_result"
    }
   ],
   "source": [
    "train"
   ]
  },
  {
   "cell_type": "code",
   "execution_count": 45,
   "metadata": {
    "colab": {
     "base_uri": "https://localhost:8080/",
     "height": 1000
    },
    "id": "FfHNO3tZ65Rp",
    "outputId": "62bdb9b1-93a2-407e-da39-deb0741c5b0a"
   },
   "outputs": [
    {
     "data": {
      "text/html": [
       "<div>\n",
       "<style scoped>\n",
       "    .dataframe tbody tr th:only-of-type {\n",
       "        vertical-align: middle;\n",
       "    }\n",
       "\n",
       "    .dataframe tbody tr th {\n",
       "        vertical-align: top;\n",
       "    }\n",
       "\n",
       "    .dataframe thead th {\n",
       "        text-align: right;\n",
       "    }\n",
       "</style>\n",
       "<table border=\"1\" class=\"dataframe\">\n",
       "  <thead>\n",
       "    <tr style=\"text-align: right;\">\n",
       "      <th></th>\n",
       "      <th>ds</th>\n",
       "      <th>y</th>\n",
       "    </tr>\n",
       "  </thead>\n",
       "  <tbody>\n",
       "    <tr>\n",
       "      <th>254</th>\n",
       "      <td>2020-10-01</td>\n",
       "      <td>7233043.0</td>\n",
       "    </tr>\n",
       "    <tr>\n",
       "      <th>255</th>\n",
       "      <td>2020-10-02</td>\n",
       "      <td>7277814.0</td>\n",
       "    </tr>\n",
       "    <tr>\n",
       "      <th>256</th>\n",
       "      <td>2020-10-03</td>\n",
       "      <td>7332285.0</td>\n",
       "    </tr>\n",
       "    <tr>\n",
       "      <th>257</th>\n",
       "      <td>2020-10-04</td>\n",
       "      <td>7382944.0</td>\n",
       "    </tr>\n",
       "    <tr>\n",
       "      <th>258</th>\n",
       "      <td>2020-10-05</td>\n",
       "      <td>7417845.0</td>\n",
       "    </tr>\n",
       "    <tr>\n",
       "      <th>259</th>\n",
       "      <td>2020-10-06</td>\n",
       "      <td>7458550.0</td>\n",
       "    </tr>\n",
       "    <tr>\n",
       "      <th>260</th>\n",
       "      <td>2020-10-07</td>\n",
       "      <td>7501612.0</td>\n",
       "    </tr>\n",
       "    <tr>\n",
       "      <th>261</th>\n",
       "      <td>2020-10-08</td>\n",
       "      <td>7549794.0</td>\n",
       "    </tr>\n",
       "    <tr>\n",
       "      <th>262</th>\n",
       "      <td>2020-10-09</td>\n",
       "      <td>7606594.0</td>\n",
       "    </tr>\n",
       "    <tr>\n",
       "      <th>263</th>\n",
       "      <td>2020-10-10</td>\n",
       "      <td>7664676.0</td>\n",
       "    </tr>\n",
       "    <tr>\n",
       "      <th>264</th>\n",
       "      <td>2020-10-11</td>\n",
       "      <td>7718947.0</td>\n",
       "    </tr>\n",
       "    <tr>\n",
       "      <th>265</th>\n",
       "      <td>2020-10-12</td>\n",
       "      <td>7762544.0</td>\n",
       "    </tr>\n",
       "    <tr>\n",
       "      <th>266</th>\n",
       "      <td>2020-10-13</td>\n",
       "      <td>7804197.0</td>\n",
       "    </tr>\n",
       "    <tr>\n",
       "      <th>267</th>\n",
       "      <td>2020-10-14</td>\n",
       "      <td>7856714.0</td>\n",
       "    </tr>\n",
       "    <tr>\n",
       "      <th>268</th>\n",
       "      <td>2020-10-15</td>\n",
       "      <td>7916100.0</td>\n",
       "    </tr>\n",
       "    <tr>\n",
       "      <th>269</th>\n",
       "      <td>2020-10-16</td>\n",
       "      <td>7979885.0</td>\n",
       "    </tr>\n",
       "    <tr>\n",
       "      <th>270</th>\n",
       "      <td>2020-10-17</td>\n",
       "      <td>8050141.0</td>\n",
       "    </tr>\n",
       "    <tr>\n",
       "      <th>271</th>\n",
       "      <td>2020-10-18</td>\n",
       "      <td>8106752.0</td>\n",
       "    </tr>\n",
       "    <tr>\n",
       "      <th>272</th>\n",
       "      <td>2020-10-19</td>\n",
       "      <td>8154595.0</td>\n",
       "    </tr>\n",
       "    <tr>\n",
       "      <th>273</th>\n",
       "      <td>2020-10-20</td>\n",
       "      <td>8214755.0</td>\n",
       "    </tr>\n",
       "    <tr>\n",
       "      <th>274</th>\n",
       "      <td>2020-10-21</td>\n",
       "      <td>8273304.0</td>\n",
       "    </tr>\n",
       "    <tr>\n",
       "      <th>275</th>\n",
       "      <td>2020-10-22</td>\n",
       "      <td>8336282.0</td>\n",
       "    </tr>\n",
       "    <tr>\n",
       "      <th>276</th>\n",
       "      <td>2020-10-23</td>\n",
       "      <td>8408340.0</td>\n",
       "    </tr>\n",
       "    <tr>\n",
       "      <th>277</th>\n",
       "      <td>2020-10-24</td>\n",
       "      <td>8493669.0</td>\n",
       "    </tr>\n",
       "    <tr>\n",
       "      <th>278</th>\n",
       "      <td>2020-10-25</td>\n",
       "      <td>8576725.0</td>\n",
       "    </tr>\n",
       "    <tr>\n",
       "      <th>279</th>\n",
       "      <td>2020-10-26</td>\n",
       "      <td>8636165.0</td>\n",
       "    </tr>\n",
       "    <tr>\n",
       "      <th>280</th>\n",
       "      <td>2020-10-27</td>\n",
       "      <td>8704524.0</td>\n",
       "    </tr>\n",
       "    <tr>\n",
       "      <th>281</th>\n",
       "      <td>2020-10-28</td>\n",
       "      <td>8779653.0</td>\n",
       "    </tr>\n",
       "    <tr>\n",
       "      <th>282</th>\n",
       "      <td>2020-10-29</td>\n",
       "      <td>8858024.0</td>\n",
       "    </tr>\n",
       "    <tr>\n",
       "      <th>283</th>\n",
       "      <td>2020-10-30</td>\n",
       "      <td>8946154.0</td>\n",
       "    </tr>\n",
       "    <tr>\n",
       "      <th>284</th>\n",
       "      <td>2020-10-31</td>\n",
       "      <td>9047427.0</td>\n",
       "    </tr>\n",
       "  </tbody>\n",
       "</table>\n",
       "</div>"
      ],
      "text/plain": [
       "             ds          y\n",
       "254  2020-10-01  7233043.0\n",
       "255  2020-10-02  7277814.0\n",
       "256  2020-10-03  7332285.0\n",
       "257  2020-10-04  7382944.0\n",
       "258  2020-10-05  7417845.0\n",
       "259  2020-10-06  7458550.0\n",
       "260  2020-10-07  7501612.0\n",
       "261  2020-10-08  7549794.0\n",
       "262  2020-10-09  7606594.0\n",
       "263  2020-10-10  7664676.0\n",
       "264  2020-10-11  7718947.0\n",
       "265  2020-10-12  7762544.0\n",
       "266  2020-10-13  7804197.0\n",
       "267  2020-10-14  7856714.0\n",
       "268  2020-10-15  7916100.0\n",
       "269  2020-10-16  7979885.0\n",
       "270  2020-10-17  8050141.0\n",
       "271  2020-10-18  8106752.0\n",
       "272  2020-10-19  8154595.0\n",
       "273  2020-10-20  8214755.0\n",
       "274  2020-10-21  8273304.0\n",
       "275  2020-10-22  8336282.0\n",
       "276  2020-10-23  8408340.0\n",
       "277  2020-10-24  8493669.0\n",
       "278  2020-10-25  8576725.0\n",
       "279  2020-10-26  8636165.0\n",
       "280  2020-10-27  8704524.0\n",
       "281  2020-10-28  8779653.0\n",
       "282  2020-10-29  8858024.0\n",
       "283  2020-10-30  8946154.0\n",
       "284  2020-10-31  9047427.0"
      ]
     },
     "execution_count": 45,
     "metadata": {},
     "output_type": "execute_result"
    }
   ],
   "source": [
    "test"
   ]
  },
  {
   "cell_type": "markdown",
   "metadata": {
    "id": "cuWvtQec65Rq"
   },
   "source": [
    "# PROPHET MODEL\n",
    "\n"
   ]
  },
  {
   "cell_type": "code",
   "execution_count": 46,
   "metadata": {
    "id": "QaD7Fqsi65Rq"
   },
   "outputs": [],
   "source": [
    "m = Prophet()\n"
   ]
  },
  {
   "cell_type": "code",
   "execution_count": 47,
   "metadata": {
    "colab": {
     "base_uri": "https://localhost:8080/"
    },
    "id": "T0CgIxtK65Rq",
    "outputId": "ab0daafe-9f6a-4697-a9e7-9a8239fcd402"
   },
   "outputs": [
    {
     "name": "stderr",
     "output_type": "stream",
     "text": [
      "INFO:prophet:Disabling yearly seasonality. Run prophet with yearly_seasonality=True to override this.\n",
      "INFO:prophet:Disabling daily seasonality. Run prophet with daily_seasonality=True to override this.\n"
     ]
    },
    {
     "name": "stdout",
     "output_type": "stream",
     "text": [
      "Initial log joint probability = -6.91747\n"
     ]
    },
    {
     "data": {
      "text/plain": [
       "<prophet.forecaster.Prophet at 0x7fa4a32be400>"
      ]
     },
     "execution_count": 47,
     "metadata": {},
     "output_type": "execute_result"
    },
    {
     "name": "stdout",
     "output_type": "stream",
     "text": [
      "    Iter      log prob        ||dx||      ||grad||       alpha      alpha0  # evals  Notes \n",
      "      99       1155.41     0.0252195       14703.5      0.2073      0.8875      125   \n",
      "    Iter      log prob        ||dx||      ||grad||       alpha      alpha0  # evals  Notes \n",
      "     199          1290    0.00217585       8415.09       0.336       0.336      246   \n",
      "    Iter      log prob        ||dx||      ||grad||       alpha      alpha0  # evals  Notes \n",
      "     299       1343.92     0.0033394       1899.86           1           1      356   \n",
      "    Iter      log prob        ||dx||      ||grad||       alpha      alpha0  # evals  Notes \n",
      "     399       1376.84     0.0043068       1553.34           1           1      473   \n",
      "    Iter      log prob        ||dx||      ||grad||       alpha      alpha0  # evals  Notes \n",
      "     499       1391.84    0.00471987       1072.11           1           1      585   \n",
      "    Iter      log prob        ||dx||      ||grad||       alpha      alpha0  # evals  Notes \n",
      "     599       1403.05   0.000214588       427.786           1           1      697   \n",
      "    Iter      log prob        ||dx||      ||grad||       alpha      alpha0  # evals  Notes \n",
      "     699       1406.52   0.000286378       373.239           1           1      807   \n",
      "    Iter      log prob        ||dx||      ||grad||       alpha      alpha0  # evals  Notes \n",
      "     799        1408.7    0.00219545       1931.24           1           1      921   \n",
      "    Iter      log prob        ||dx||      ||grad||       alpha      alpha0  # evals  Notes \n",
      "     899       1410.44    0.00232593       1786.99      0.4795      0.4795     1038   \n",
      "    Iter      log prob        ||dx||      ||grad||       alpha      alpha0  # evals  Notes \n",
      "     999       1410.97   6.95663e-05       274.083      0.9772      0.9772     1161   \n",
      "    Iter      log prob        ||dx||      ||grad||       alpha      alpha0  # evals  Notes \n",
      "    1063       1411.57   4.98652e-06       401.873   2.548e-08       0.001     1283  LS failed, Hessian reset \n",
      "    1099       1411.69   0.000206462       1242.48           1           1     1319   \n",
      "    Iter      log prob        ||dx||      ||grad||       alpha      alpha0  # evals  Notes \n",
      "    1172       1411.98   2.62519e-07       89.3482   0.0009467           1     1409   \n",
      "Optimization terminated normally: \n",
      "  Convergence detected: relative change in objective function was below tolerance\n"
     ]
    }
   ],
   "source": [
    "# Create and fit the prophet model to the training data\n",
    "m.fit(train)"
   ]
  },
  {
   "cell_type": "code",
   "execution_count": 54,
   "metadata": {
    "colab": {
     "base_uri": "https://localhost:8080/",
     "height": 424
    },
    "id": "92WFquhy65Rr",
    "outputId": "35dc0894-8380-4abc-c6c2-113133632ad4"
   },
   "outputs": [
    {
     "data": {
      "text/html": [
       "<div>\n",
       "<style scoped>\n",
       "    .dataframe tbody tr th:only-of-type {\n",
       "        vertical-align: middle;\n",
       "    }\n",
       "\n",
       "    .dataframe tbody tr th {\n",
       "        vertical-align: top;\n",
       "    }\n",
       "\n",
       "    .dataframe thead th {\n",
       "        text-align: right;\n",
       "    }\n",
       "</style>\n",
       "<table border=\"1\" class=\"dataframe\">\n",
       "  <thead>\n",
       "    <tr style=\"text-align: right;\">\n",
       "      <th></th>\n",
       "      <th>ds</th>\n",
       "    </tr>\n",
       "  </thead>\n",
       "  <tbody>\n",
       "    <tr>\n",
       "      <th>0</th>\n",
       "      <td>2020-01-21</td>\n",
       "    </tr>\n",
       "    <tr>\n",
       "      <th>1</th>\n",
       "      <td>2020-01-22</td>\n",
       "    </tr>\n",
       "    <tr>\n",
       "      <th>2</th>\n",
       "      <td>2020-01-23</td>\n",
       "    </tr>\n",
       "    <tr>\n",
       "      <th>3</th>\n",
       "      <td>2020-01-24</td>\n",
       "    </tr>\n",
       "    <tr>\n",
       "      <th>4</th>\n",
       "      <td>2020-01-25</td>\n",
       "    </tr>\n",
       "    <tr>\n",
       "      <th>...</th>\n",
       "      <td>...</td>\n",
       "    </tr>\n",
       "    <tr>\n",
       "      <th>280</th>\n",
       "      <td>2020-10-27</td>\n",
       "    </tr>\n",
       "    <tr>\n",
       "      <th>281</th>\n",
       "      <td>2020-10-28</td>\n",
       "    </tr>\n",
       "    <tr>\n",
       "      <th>282</th>\n",
       "      <td>2020-10-29</td>\n",
       "    </tr>\n",
       "    <tr>\n",
       "      <th>283</th>\n",
       "      <td>2020-10-30</td>\n",
       "    </tr>\n",
       "    <tr>\n",
       "      <th>284</th>\n",
       "      <td>2020-10-31</td>\n",
       "    </tr>\n",
       "  </tbody>\n",
       "</table>\n",
       "<p>285 rows × 1 columns</p>\n",
       "</div>"
      ],
      "text/plain": [
       "            ds\n",
       "0   2020-01-21\n",
       "1   2020-01-22\n",
       "2   2020-01-23\n",
       "3   2020-01-24\n",
       "4   2020-01-25\n",
       "..         ...\n",
       "280 2020-10-27\n",
       "281 2020-10-28\n",
       "282 2020-10-29\n",
       "283 2020-10-30\n",
       "284 2020-10-31\n",
       "\n",
       "[285 rows x 1 columns]"
      ]
     },
     "execution_count": 54,
     "metadata": {},
     "output_type": "execute_result"
    }
   ],
   "source": [
    "# We are going to forecast for 31 days, so we get the dataframe contain dates which includes our training\n",
    "# dates as well as 31 days into the future, for forecasting.\n",
    "\n",
    "future = m.make_future_dataframe(periods = 31)\n",
    "future"
   ]
  },
  {
   "cell_type": "code",
   "execution_count": 55,
   "metadata": {
    "colab": {
     "base_uri": "https://localhost:8080/",
     "height": 206
    },
    "id": "6eOi1Vud65Rr",
    "outputId": "10a38d6c-9df6-427d-fd1a-0830468b8d08"
   },
   "outputs": [
    {
     "data": {
      "text/html": [
       "<div>\n",
       "<style scoped>\n",
       "    .dataframe tbody tr th:only-of-type {\n",
       "        vertical-align: middle;\n",
       "    }\n",
       "\n",
       "    .dataframe tbody tr th {\n",
       "        vertical-align: top;\n",
       "    }\n",
       "\n",
       "    .dataframe thead th {\n",
       "        text-align: right;\n",
       "    }\n",
       "</style>\n",
       "<table border=\"1\" class=\"dataframe\">\n",
       "  <thead>\n",
       "    <tr style=\"text-align: right;\">\n",
       "      <th></th>\n",
       "      <th>ds</th>\n",
       "      <th>yhat</th>\n",
       "      <th>yhat_lower</th>\n",
       "      <th>yhat_upper</th>\n",
       "    </tr>\n",
       "  </thead>\n",
       "  <tbody>\n",
       "    <tr>\n",
       "      <th>280</th>\n",
       "      <td>2020-10-27</td>\n",
       "      <td>8.301705e+06</td>\n",
       "      <td>8.124588e+06</td>\n",
       "      <td>8.466869e+06</td>\n",
       "    </tr>\n",
       "    <tr>\n",
       "      <th>281</th>\n",
       "      <td>2020-10-28</td>\n",
       "      <td>8.342879e+06</td>\n",
       "      <td>8.150731e+06</td>\n",
       "      <td>8.516471e+06</td>\n",
       "    </tr>\n",
       "    <tr>\n",
       "      <th>282</th>\n",
       "      <td>2020-10-29</td>\n",
       "      <td>8.383739e+06</td>\n",
       "      <td>8.185187e+06</td>\n",
       "      <td>8.571644e+06</td>\n",
       "    </tr>\n",
       "    <tr>\n",
       "      <th>283</th>\n",
       "      <td>2020-10-30</td>\n",
       "      <td>8.426007e+06</td>\n",
       "      <td>8.221765e+06</td>\n",
       "      <td>8.630810e+06</td>\n",
       "    </tr>\n",
       "    <tr>\n",
       "      <th>284</th>\n",
       "      <td>2020-10-31</td>\n",
       "      <td>8.470724e+06</td>\n",
       "      <td>8.252196e+06</td>\n",
       "      <td>8.686633e+06</td>\n",
       "    </tr>\n",
       "  </tbody>\n",
       "</table>\n",
       "</div>"
      ],
      "text/plain": [
       "            ds          yhat    yhat_lower    yhat_upper\n",
       "280 2020-10-27  8.301705e+06  8.124588e+06  8.466869e+06\n",
       "281 2020-10-28  8.342879e+06  8.150731e+06  8.516471e+06\n",
       "282 2020-10-29  8.383739e+06  8.185187e+06  8.571644e+06\n",
       "283 2020-10-30  8.426007e+06  8.221765e+06  8.630810e+06\n",
       "284 2020-10-31  8.470724e+06  8.252196e+06  8.686633e+06"
      ]
     },
     "execution_count": 55,
     "metadata": {},
     "output_type": "execute_result"
    }
   ],
   "source": [
    "forecast = m.predict(future)\n",
    "\n",
    "# 'yhat' is the mean predicted values and the 'yhat_lower' and 'yhat_upper' represent the lower and upper\n",
    "# predicted boundaries\n",
    "\n",
    "forecast[['ds', 'yhat', 'yhat_lower', 'yhat_upper']].tail()\n"
   ]
  },
  {
   "cell_type": "code",
   "execution_count": 51,
   "metadata": {
    "colab": {
     "base_uri": "https://localhost:8080/",
     "height": 617
    },
    "id": "xVNxgS-C65Rr",
    "outputId": "2141fc82-ac43-4dd6-b130-4975587b07ba"
   },
   "outputs": [
    {
     "data": {
      "text/html": [
       "<iframe\n",
       "    scrolling=\"no\"\n",
       "    width=\"920px\"\n",
       "    height=\"620\"\n",
       "    src=\"iframe_figures/figure_51.html\"\n",
       "    frameborder=\"0\"\n",
       "    allowfullscreen\n",
       "></iframe>\n"
      ]
     },
     "metadata": {},
     "output_type": "display_data"
    }
   ],
   "source": [
    "from prophet.plot import plot_plotly, plot_components_plotly\n",
    "\n",
    "# Ploting the forecasted data\n",
    "\n",
    "plot_plotly(m, forecast)"
   ]
  },
  {
   "cell_type": "code",
   "execution_count": 52,
   "metadata": {
    "colab": {
     "base_uri": "https://localhost:8080/",
     "height": 441
    },
    "id": "fQYO_CKv65Rs",
    "outputId": "43949574-7fbf-496f-9b1c-a9d80dbeac70"
   },
   "outputs": [
    {
     "data": {
      "image/png": "[encoded data removed]",
      "text/plain": [
       "<Figure size 720x432 with 1 Axes>"
      ]
     },
     "metadata": {},
     "output_type": "display_data"
    }
   ],
   "source": [
    "from prophet.plot import add_changepoints_to_plot\n",
    "\n",
    "# This particular feature helps us identify trend changes that are infered by the model\n",
    "\n",
    "fig = m.plot(forecast)\n",
    "a = add_changepoints_to_plot(fig.gca(), m, forecast)\n"
   ]
  },
  {
   "cell_type": "code",
   "execution_count": 53,
   "metadata": {
    "colab": {
     "base_uri": "https://localhost:8080/",
     "height": 617
    },
    "id": "2GqIvBob65Rs",
    "outputId": "236e79d2-de51-4125-f272-6f8b8f8f4417"
   },
   "outputs": [
    {
     "data": {
      "text/html": [
       "<iframe\n",
       "    scrolling=\"no\"\n",
       "    width=\"920px\"\n",
       "    height=\"620\"\n",
       "    src=\"iframe_figures/figure_53.html\"\n",
       "    frameborder=\"0\"\n",
       "    allowfullscreen\n",
       "></iframe>\n"
      ]
     },
     "metadata": {},
     "output_type": "display_data"
    }
   ],
   "source": [
    "future = m.make_future_dataframe(periods=60)\n",
    "# Make prediction \n",
    "forecast = m.predict(future)\n",
    "# Ploting the forecasted data\n",
    "plot_plotly(m, forecast)"
   ]
  },
  {
   "cell_type": "markdown",
   "metadata": {
    "id": "5bcv5har65Rs"
   },
   "source": [
    "#  PERFORMANCE OF THE MODEL\n",
    "\n"
   ]
  },
  {
   "cell_type": "code",
   "execution_count": 56,
   "metadata": {
    "colab": {
     "base_uri": "https://localhost:8080/"
    },
    "id": "FN_928Sd65Rt",
    "outputId": "3d777ef6-ec8c-4287-e825-d5011aa247ef"
   },
   "outputs": [
    {
     "name": "stdout",
     "output_type": "stream",
     "text": [
      "R-Sqaure score is 0.7815643685009636\n"
     ]
    }
   ],
   "source": [
    "\n",
    "score = r2_score(test['y'], forecast[forecast['ds'] >= '2020-10-01']['trend'])\n",
    "\n",
    "print('R-Sqaure score is {}'.format(score))"
   ]
  },
  {
   "cell_type": "code",
   "execution_count": 57,
   "metadata": {
    "id": "9Wc1XL9r65Rt"
   },
   "outputs": [],
   "source": [
    "# Add the predicted values to the original dataframe for plotting purpose\n",
    "\n",
    "US_df['predicted'] = forecast['trend']"
   ]
  },
  {
   "cell_type": "code",
   "execution_count": 58,
   "metadata": {
    "colab": {
     "base_uri": "https://localhost:8080/",
     "height": 424
    },
    "id": "5vKCLyK_65Rt",
    "outputId": "db2654de-05b3-467b-d3d0-42e3c2be080d"
   },
   "outputs": [
    {
     "data": {
      "text/html": [
       "<div>\n",
       "<style scoped>\n",
       "    .dataframe tbody tr th:only-of-type {\n",
       "        vertical-align: middle;\n",
       "    }\n",
       "\n",
       "    .dataframe tbody tr th {\n",
       "        vertical-align: top;\n",
       "    }\n",
       "\n",
       "    .dataframe thead th {\n",
       "        text-align: right;\n",
       "    }\n",
       "</style>\n",
       "<table border=\"1\" class=\"dataframe\">\n",
       "  <thead>\n",
       "    <tr style=\"text-align: right;\">\n",
       "      <th></th>\n",
       "      <th>ds</th>\n",
       "      <th>y</th>\n",
       "      <th>predicted</th>\n",
       "    </tr>\n",
       "  </thead>\n",
       "  <tbody>\n",
       "    <tr>\n",
       "      <th>0</th>\n",
       "      <td>2020-01-23</td>\n",
       "      <td>1.0</td>\n",
       "      <td>-1.483851e+02</td>\n",
       "    </tr>\n",
       "    <tr>\n",
       "      <th>1</th>\n",
       "      <td>2020-01-24</td>\n",
       "      <td>1.0</td>\n",
       "      <td>-1.416733e+02</td>\n",
       "    </tr>\n",
       "    <tr>\n",
       "      <th>2</th>\n",
       "      <td>2020-01-21</td>\n",
       "      <td>1.0</td>\n",
       "      <td>-1.349616e+02</td>\n",
       "    </tr>\n",
       "    <tr>\n",
       "      <th>3</th>\n",
       "      <td>2020-01-22</td>\n",
       "      <td>1.0</td>\n",
       "      <td>-1.282498e+02</td>\n",
       "    </tr>\n",
       "    <tr>\n",
       "      <th>4</th>\n",
       "      <td>2020-01-26</td>\n",
       "      <td>2.0</td>\n",
       "      <td>-1.215380e+02</td>\n",
       "    </tr>\n",
       "    <tr>\n",
       "      <th>...</th>\n",
       "      <td>...</td>\n",
       "      <td>...</td>\n",
       "      <td>...</td>\n",
       "    </tr>\n",
       "    <tr>\n",
       "      <th>280</th>\n",
       "      <td>2020-10-27</td>\n",
       "      <td>8704524.0</td>\n",
       "      <td>8.303778e+06</td>\n",
       "    </tr>\n",
       "    <tr>\n",
       "      <th>281</th>\n",
       "      <td>2020-10-28</td>\n",
       "      <td>8779653.0</td>\n",
       "      <td>8.344834e+06</td>\n",
       "    </tr>\n",
       "    <tr>\n",
       "      <th>282</th>\n",
       "      <td>2020-10-29</td>\n",
       "      <td>8858024.0</td>\n",
       "      <td>8.385889e+06</td>\n",
       "    </tr>\n",
       "    <tr>\n",
       "      <th>283</th>\n",
       "      <td>2020-10-30</td>\n",
       "      <td>8946154.0</td>\n",
       "      <td>8.426945e+06</td>\n",
       "    </tr>\n",
       "    <tr>\n",
       "      <th>284</th>\n",
       "      <td>2020-10-31</td>\n",
       "      <td>9047427.0</td>\n",
       "      <td>8.468000e+06</td>\n",
       "    </tr>\n",
       "  </tbody>\n",
       "</table>\n",
       "<p>285 rows × 3 columns</p>\n",
       "</div>"
      ],
      "text/plain": [
       "             ds          y     predicted\n",
       "0    2020-01-23        1.0 -1.483851e+02\n",
       "1    2020-01-24        1.0 -1.416733e+02\n",
       "2    2020-01-21        1.0 -1.349616e+02\n",
       "3    2020-01-22        1.0 -1.282498e+02\n",
       "4    2020-01-26        2.0 -1.215380e+02\n",
       "..          ...        ...           ...\n",
       "280  2020-10-27  8704524.0  8.303778e+06\n",
       "281  2020-10-28  8779653.0  8.344834e+06\n",
       "282  2020-10-29  8858024.0  8.385889e+06\n",
       "283  2020-10-30  8946154.0  8.426945e+06\n",
       "284  2020-10-31  9047427.0  8.468000e+06\n",
       "\n",
       "[285 rows x 3 columns]"
      ]
     },
     "execution_count": 58,
     "metadata": {},
     "output_type": "execute_result"
    }
   ],
   "source": [
    "US_df"
   ]
  },
  {
   "cell_type": "code",
   "execution_count": 59,
   "metadata": {
    "id": "jYz2pVha65Rt"
   },
   "outputs": [],
   "source": [
    "# Function to plot the forecast and the origianl values for comparison\n",
    "\n",
    "def interactive_plot_forecasting(df, title):\n",
    "    fig = px.line(title = title)\n",
    "    for i in df.columns[1:]:\n",
    "        fig.add_scatter(x = df['ds'],y = df[i], name = i)\n",
    "    fig.show()"
   ]
  },
  {
   "cell_type": "code",
   "execution_count": 60,
   "metadata": {
    "colab": {
     "base_uri": "https://localhost:8080/",
     "height": 542
    },
    "id": "F7ZR4pVv65Ru",
    "outputId": "9892f1c0-167f-48f2-bdb9-e2146c037731"
   },
   "outputs": [
    {
     "data": {
      "text/html": [
       "<iframe\n",
       "    scrolling=\"no\"\n",
       "    width=\"100%\"\n",
       "    height=\"545px\"\n",
       "    src=\"iframe_figures/figure_60.html\"\n",
       "    frameborder=\"0\"\n",
       "    allowfullscreen\n",
       "></iframe>\n"
      ]
     },
     "metadata": {},
     "output_type": "display_data"
    }
   ],
   "source": [
    "interactive_plot_forecasting(US_df, 'Original Vs Predicted')"
   ]
  }
 ],
 "metadata": {
  "accelerator": "GPU",
  "colab": {
   "collapsed_sections": [],
   "name": "Covid19 Cases Prediction Using Facebook Prophet.ipynb",
   "provenance": []
  },
  "kernelspec": {
   "display_name": "Python 3 (ipykernel)",
   "language": "python",
   "name": "python3"
  },
  "language_info": {
   "codemirror_mode": {
    "name": "ipython",
    "version": 3
   },
   "file_extension": ".py",
   "mimetype": "text/x-python",
   "name": "python",
   "nbconvert_exporter": "python",
   "pygments_lexer": "ipython3",
   "version": "3.9.7"
  }
 },
 "nbformat": 4,
 "nbformat_minor": 4
}
